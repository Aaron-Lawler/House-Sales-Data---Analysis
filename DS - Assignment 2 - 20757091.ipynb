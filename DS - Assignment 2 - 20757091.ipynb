{
 "cells": [
  {
   "cell_type": "markdown",
   "id": "1ce25060",
   "metadata": {},
   "source": [
    "# Data Science in Python - Assignment 2"
   ]
  },
  {
   "cell_type": "markdown",
   "id": "efc8794c",
   "metadata": {},
   "source": [
    "Student Number: 20757091"
   ]
  },
  {
   "cell_type": "markdown",
   "id": "73e3b7ef",
   "metadata": {},
   "source": [
    "### In this assignment I will perform four Tasks involving Historic House Sales Data\n",
    "#### 1. Data Collection and Initial Characterisation\n",
    "#### 2. Time Series Analysis\n",
    "#### 3. Correlation and Regression\n",
    "#### 4. Classification"
   ]
  },
  {
   "cell_type": "markdown",
   "id": "563e7787",
   "metadata": {},
   "source": [
    "## Step 1: Data Collection and Initial Characterisation"
   ]
  },
  {
   "cell_type": "markdown",
   "id": "5a88dea6",
   "metadata": {},
   "source": [
    "In this section I will firstly scrape all relevant house data from a unique webpage given to me. I will parse the page to extract relevant data, while performing any relevant data pre-processing and cleansing steps. After this I will load the data into a DataFrame and perform an initial Characterisation of the data"
   ]
  },
  {
   "cell_type": "code",
   "execution_count": null,
   "id": "c1c559c1",
   "metadata": {},
   "outputs": [],
   "source": [
    "# importing necessary packages\n",
    "import pandas as pd\n",
    "import matplotlib.pyplot as plt\n",
    "import urllib.request\n",
    "import bs4\n",
    "from datetime import datetime\n",
    "import numpy as np\n",
    "import sklearn\n",
    "from sklearn.linear_model import LinearRegression\n",
    "from sklearn.neighbors import KNeighborsClassifier\n",
    "from sklearn.model_selection import train_test_split\n",
    "from sklearn.metrics import confusion_matrix\n",
    "from sklearn.model_selection import cross_val_score\n",
    "from sklearn.preprocessing import MinMaxScaler\n",
    "from sklearn.metrics import ConfusionMatrixDisplay\n",
    "from sklearn.metrics import precision_score, recall_score\n",
    "from sklearn.metrics import classification_report\n",
    "import seaborn as sns\n",
    "from sklearn.metrics import accuracy_score\n",
    "from sklearn.preprocessing import StandardScaler"
   ]
  },
  {
   "cell_type": "markdown",
   "id": "514f5c1c",
   "metadata": {},
   "source": [
    "I will first download relevant data from the webpage"
   ]
  },
  {
   "cell_type": "code",
   "execution_count": null,
   "id": "767eeb0e",
   "metadata": {},
   "outputs": [],
   "source": [
    "#given link to HTML page containing house data\n",
    "link = \"http://mlg.ucd.ie/modules/COMP30760/assign2/20757091.html\"\n",
    "response = urllib.request.urlopen(link)\n",
    "html = response.read().decode()"
   ]
  },
  {
   "cell_type": "code",
   "execution_count": null,
   "id": "fd23e563",
   "metadata": {},
   "outputs": [],
   "source": [
    "# brief overview of data\n",
    "lines = html.strip().split(\"\\n\")\n",
    "for l in lines:\n",
    "    print(l)"
   ]
  },
  {
   "cell_type": "markdown",
   "id": "a5ef0855",
   "metadata": {},
   "source": [
    "By looking at our downloaded data, we can see all relevant data we need is under the class \"sales\". I will now parse the data by this attribute using Beautiful Soup"
   ]
  },
  {
   "cell_type": "code",
   "execution_count": null,
   "id": "f37eee36",
   "metadata": {},
   "outputs": [],
   "source": [
    "parser = bs4.BeautifulSoup(html, \"html.parser\")\n",
    "for match in parser.find_all(attrs={'class':'sales'}):\n",
    "    text = match.get_text()\n",
    "    print(text)"
   ]
  },
  {
   "cell_type": "markdown",
   "id": "7e5546e9",
   "metadata": {},
   "source": [
    "We can see all relevant data is shown after filtering by the class sales. I will now perform a number of steps to process and clean the data before placing it in a DataFrame"
   ]
  },
  {
   "cell_type": "markdown",
   "id": "05b65afe",
   "metadata": {},
   "source": [
    "Our data is split underneath the headings of Date of Sale, Price, Location, Year built, Size and Description. I will create lists to help sort the data according to these headings"
   ]
  },
  {
   "cell_type": "code",
   "execution_count": null,
   "id": "61935429",
   "metadata": {},
   "outputs": [],
   "source": [
    "# creating lists for each relevant heading to store data\n",
    "Date_of_sale = []\n",
    "Price = []\n",
    "Location = []\n",
    "Year_built = []\n",
    "Size = []\n",
    "Description = []\n",
    "\n",
    "# using the modulo operator and incrementing a variable to split the data into the relevant six headings\n",
    "i = 0\n",
    "for match in parser.find_all(attrs={'class':'sales'}):\n",
    "    for data_piece in match:\n",
    "        text = data_piece.get_text()\n",
    "        \n",
    "        if(i % 6 == 0):\n",
    "            Date_of_sale.append(text)\n",
    "        if(i % 6 == 1):\n",
    "            Price.append(text)\n",
    "        if(i % 6 == 2):\n",
    "            Location.append(text)\n",
    "        if(i % 6 == 3):\n",
    "            Year_built.append(text)\n",
    "        if(i % 6 == 4):\n",
    "            Size.append(text)\n",
    "        if(i % 6 == 5):\n",
    "            Description.append(text)\n",
    "        \n",
    "        i+=1"
   ]
  },
  {
   "cell_type": "markdown",
   "id": "4bb2ddc2",
   "metadata": {},
   "source": [
    "I will now look at a brief overview of our created lists"
   ]
  },
  {
   "cell_type": "code",
   "execution_count": null,
   "id": "1e723c96",
   "metadata": {},
   "outputs": [],
   "source": [
    "for i in range(3):\n",
    "    print(Date_of_sale[i])\n",
    "    print(Price[i])\n",
    "    print(Location[i])\n",
    "    print(Year_built[i])\n",
    "    print(Size[i])\n",
    "    print(Description[i] + \"\\n\")"
   ]
  },
  {
   "cell_type": "markdown",
   "id": "ed0a22e6",
   "metadata": {},
   "source": [
    "All of our lists appear in the correct format, apart from Description. This features multiple different attributes under this heading. They will be split up accordingly and given their own list. The attributes to be extracted are House Type, Style (Stories), Bedrooms and Bathrooms"
   ]
  },
  {
   "cell_type": "code",
   "execution_count": null,
   "id": "95209377",
   "metadata": {},
   "outputs": [],
   "source": [
    "# examination of Description list\n",
    "for i in range(0,30):\n",
    "    print(Description[i])"
   ]
  },
  {
   "cell_type": "markdown",
   "id": "82ad986b",
   "metadata": {},
   "source": [
    "As we can see from above, not only is the data split into seperate attributes under the Description heading, but the data is not always in the same order! This will require further processing to correctly place the relevant data under the correct heading"
   ]
  },
  {
   "cell_type": "code",
   "execution_count": null,
   "id": "1d2c2f06",
   "metadata": {},
   "outputs": [],
   "source": [
    "# start of filtering of Description column\n",
    "# Due to the column not always having the same structure we will split up the data based on keywords\n",
    "# This raw data will then be further processed in the next step\n",
    "\n",
    "# lists to hold raw data\n",
    "raw_type = []\n",
    "raw_Story = []\n",
    "raw_Bedrooms = []\n",
    "raw_Bathrooms = []\n",
    "\n",
    "# looping through Description column and placing data into correct list based off keywords\n",
    "for i in range(0,len(Description)):\n",
    "    data = Description[i].split(\";\")\n",
    "    \n",
    "    if \"Type\" in data[0]:\n",
    "        raw_type.append(data[0])\n",
    "    if \"Style\" in data[0]:\n",
    "        raw_Story.append(data[0])\n",
    "    if \"Bedroom\" in data[0]:\n",
    "        raw_Bedrooms.append(data[0])\n",
    "    if \"Bathroom\" in data[0]:\n",
    "        raw_Bathrooms.append(data[0])\n",
    "        \n",
    "    if \"Type\" in data[1]:\n",
    "        raw_type.append(data[1])\n",
    "    if \"Style\" in data[1]:\n",
    "        raw_Story.append(data[1])\n",
    "    if \"Bedroom\" in data[1]:\n",
    "        raw_Bedrooms.append(data[1])\n",
    "    if \"Bathroom\" in data[1]:\n",
    "        raw_Bathrooms.append(data[1])\n",
    "        \n",
    "    if \"Type\" in data[2]:\n",
    "        raw_type.append(data[2])\n",
    "    if \"Style\" in data[2]:\n",
    "        raw_Story.append(data[2])\n",
    "    if \"Bedroom\" in data[2]:\n",
    "        raw_Bedrooms.append(data[2])\n",
    "    if \"Bathroom\" in data[2]:\n",
    "        raw_Bathrooms.append(data[2])\n",
    "        \n",
    "    if \"Type\" in data[3]:\n",
    "        raw_type.append(data[3])\n",
    "    if \"Style\" in data[3]:\n",
    "        raw_Story.append(data[3])\n",
    "    if \"Bedroom\" in data[3]:\n",
    "        raw_Bedrooms.append(data[3])\n",
    "    if \"Bathroom\" in data[3]:\n",
    "        raw_Bathrooms.append(data[3])"
   ]
  },
  {
   "cell_type": "markdown",
   "id": "4f8e051a",
   "metadata": {},
   "source": [
    "We now have our data in the correct lists so can process each further and isolate necessary items from them"
   ]
  },
  {
   "cell_type": "code",
   "execution_count": null,
   "id": "bb5d8dc1",
   "metadata": {},
   "outputs": [],
   "source": [
    "# lists to hold improved data\n",
    "Type = []\n",
    "Story = []\n",
    "Bedrooms = []\n",
    "Bathrooms = []\n",
    "\n",
    "# looping through length of Description column and extracting only relevant data which is appended to our lists\n",
    "for i in range(0, len(Description)):\n",
    "    \n",
    "    split_raw_type = raw_type[i]\n",
    "    split = split_raw_type.split(\";\")\n",
    "    split_type = split[0].split(\":\")\n",
    "    type_result = split_type[1].replace(\" \", \"\")\n",
    "    type_result\n",
    "    Type.append(type_result)\n",
    "    \n",
    "    split_story = raw_Story[i].split(\":\")\n",
    "    type_split_story = split_story[1]\n",
    "    type_split_story = type_split_story.split(\"-\")\n",
    "    type_split_story = type_split_story[0]\n",
    "    story_result = type_split_story.replace(\" \", \"\")\n",
    "    Story.append(story_result)\n",
    "    \n",
    "    \n",
    "    split_bedroom = raw_Bedrooms[i]\n",
    "    split_bedroom = split_bedroom.replace(\" \", \"\")\n",
    "    split_bedroom = split_bedroom.split(\"B\")\n",
    "    bedroom_result = split_bedroom[0]\n",
    "    Bedrooms.append(bedroom_result)\n",
    "    \n",
    "    \n",
    "    split_bathroom = raw_Bathrooms[i]\n",
    "    split_bathroom = split_bathroom.replace(\" \", \"\")\n",
    "    split_bathroom = split_bathroom.split(\"B\")\n",
    "    bathroom_result = split_bathroom[0]\n",
    "    Bathrooms.append(bathroom_result)"
   ]
  },
  {
   "cell_type": "code",
   "execution_count": null,
   "id": "894bd15d",
   "metadata": {},
   "outputs": [],
   "source": [
    "# checking data is as required\n",
    "for i in range(0,5):\n",
    "    print(\"Type: \" + str(Type[i]))\n",
    "    print(\"Story: \" + str(Story[i]))\n",
    "    print(\"Bedrooms: \" + str(Bedrooms[i]))\n",
    "    print(\"Bathrooms: \" + str(Bathrooms[i]) + \"\\n\")"
   ]
  },
  {
   "cell_type": "markdown",
   "id": "25569772",
   "metadata": {},
   "source": [
    "Description Data is now expanded into different sections and cleansed. I will now begin cleaning and examining different columns."
   ]
  },
  {
   "cell_type": "markdown",
   "id": "9227dad6",
   "metadata": {},
   "source": [
    "#### Columns to be cleansed: Date of Sale, Price, Location, Year Built,  Size"
   ]
  },
  {
   "cell_type": "markdown",
   "id": "94ec96c6",
   "metadata": {},
   "source": [
    "1. Date of Sale"
   ]
  },
  {
   "cell_type": "code",
   "execution_count": null,
   "id": "5b1ea764",
   "metadata": {},
   "outputs": [],
   "source": [
    "NEW_Date_of_sale = []\n",
    "\n",
    "# some entries had random commas, these are removed with the step below and placed in a new list\n",
    "for i in range(0, len(Date_of_sale)):\n",
    "    NEW_Date_of_sale.append(Date_of_sale[i].replace(\",\",\"\"))"
   ]
  },
  {
   "cell_type": "markdown",
   "id": "1155cedf",
   "metadata": {},
   "source": [
    "2. Price"
   ]
  },
  {
   "cell_type": "code",
   "execution_count": null,
   "id": "25087c53",
   "metadata": {},
   "outputs": [],
   "source": [
    "# lists to house edited data\n",
    "Price_without_euro = []\n",
    "Price_final = []\n",
    "\n",
    "# loops to remove euro signs and commas\n",
    "for i in range(0, len(Price)):\n",
    "    Price_without_euro.append(Price[i].replace(\"€\",\"\"))\n",
    "    \n",
    "for i in range(0, len(Price_without_euro)):\n",
    "    Price_final.append(Price_without_euro[i].replace(\",\",\"\"))"
   ]
  },
  {
   "cell_type": "markdown",
   "id": "86a15a87",
   "metadata": {},
   "source": [
    "3. Location & 4. Year Built - These columns appeared to be fine from initial checks so they will remain unchanged for now"
   ]
  },
  {
   "cell_type": "markdown",
   "id": "c16d9aa9",
   "metadata": {},
   "source": [
    "5. Size"
   ]
  },
  {
   "cell_type": "code",
   "execution_count": null,
   "id": "10f05c8b",
   "metadata": {},
   "outputs": [],
   "source": [
    "Size_without_sqft = []\n",
    "Size_without_commas = []\n",
    "Size_final = []\n",
    "\n",
    "# size column had two different versions of sqft so both must be removed - along with commas\n",
    "for i in range(0, len(Size)):\n",
    "    if \"sq ft\" in Size[i]:\n",
    "        Size_without_sqft.append(Size[i].replace(\"sq ft\",\"\"))\n",
    "    if \"sqft\" in Size[i]:\n",
    "        Size_without_sqft.append(Size[i].replace(\"sqft\",\"\"))\n",
    "        \n",
    "for i in range(0, len(Size_without_sqft)):\n",
    "    Size_without_commas.append(Size_without_sqft[i].replace(\",\",\"\"))\n",
    "    \n",
    "for i in range(0, len(Size_without_commas)):\n",
    "    Size_final.append(Size_without_commas[i].replace(\" \",\"\"))"
   ]
  },
  {
   "cell_type": "markdown",
   "id": "f4910c6b",
   "metadata": {},
   "source": [
    "Our data has been cleansed and is now in a more useable format. This will now be uploaded to a DataFrame"
   ]
  },
  {
   "cell_type": "code",
   "execution_count": null,
   "id": "a7ac9cb8",
   "metadata": {},
   "outputs": [],
   "source": [
    "# creating DataFrame\n",
    "House_DF = pd.DataFrame()"
   ]
  },
  {
   "cell_type": "code",
   "execution_count": null,
   "id": "6911bf80",
   "metadata": {},
   "outputs": [],
   "source": [
    "# adding our data to dataframe\n",
    "House_DF[\"Date of Sale\"] = NEW_Date_of_sale\n",
    "House_DF[\"Price\"] = Price_final\n",
    "House_DF[\"Location\"] = Location\n",
    "House_DF[\"Year Built\"] = Year_built\n",
    "House_DF[\"Size (in Sq Ft)\"] = Size_final\n",
    "House_DF[\"House Type\"] = Type\n",
    "House_DF[\"Story no.\"] = Story\n",
    "House_DF[\"Bedrooms no.\"] = Bedrooms\n",
    "House_DF[\"Bathrooms no.\"] = Bathrooms"
   ]
  },
  {
   "cell_type": "code",
   "execution_count": null,
   "id": "72b0e2b9",
   "metadata": {},
   "outputs": [],
   "source": [
    "# quick look at dataframe\n",
    "House_DF.head()"
   ]
  },
  {
   "cell_type": "code",
   "execution_count": null,
   "id": "02a65429",
   "metadata": {},
   "outputs": [],
   "source": [
    "# current shape of dataframe with 945 rows and 9 columns\n",
    "House_DF.shape"
   ]
  },
  {
   "cell_type": "markdown",
   "id": "92fd623e",
   "metadata": {},
   "source": [
    "Our Data has been scraped and placed into a DataFrame. This is good but I will now create further columns based off this data that can hopefully be used later to help us examine the housing data"
   ]
  },
  {
   "cell_type": "code",
   "execution_count": null,
   "id": "918f6887",
   "metadata": {},
   "outputs": [],
   "source": [
    "# creating new columns to isolate day, month and year of house sale\n",
    "data = NEW_Date_of_sale[0].split(\" \")\n",
    "\n",
    "# lists for each day, month and year from each Date of Sale values\n",
    "day = []\n",
    "month = []\n",
    "year = []\n",
    "\n",
    "# splitting data into day, month and year while also appending to relevant lists\n",
    "for i in range(0, len(NEW_Date_of_sale)):\n",
    "    data = NEW_Date_of_sale[i].split(\" \")\n",
    "    \n",
    "    # also removing 0 from day value\n",
    "    data_day = data[0].replace(\"0\",\"\")\n",
    "    day.append(data_day)\n",
    "    month.append(data[1])\n",
    "    year.append(data[2])"
   ]
  },
  {
   "cell_type": "markdown",
   "id": "5c4b2b90",
   "metadata": {},
   "source": [
    "I will also upload the month as a number from 1-12 alongside its string representation to dataframe"
   ]
  },
  {
   "cell_type": "code",
   "execution_count": null,
   "id": "80ef08d1",
   "metadata": {},
   "outputs": [],
   "source": [
    "# list to house number representation of month\n",
    "months_num = []\n",
    "\n",
    "for entry in (month):\n",
    "    if entry == \"Jan\":\n",
    "        months_num.append(1)\n",
    "    if entry == \"Feb\":\n",
    "        months_num.append(2)\n",
    "    if entry == \"Mar\":\n",
    "        months_num.append(3)\n",
    "    if entry == \"Apr\":\n",
    "        months_num.append(4)\n",
    "    if entry == \"May\":\n",
    "        months_num.append(5)\n",
    "    if entry == \"Jun\":\n",
    "        months_num.append(6)\n",
    "    if entry == \"Jul\":\n",
    "        months_num.append(7)\n",
    "    if entry == \"Aug\":\n",
    "        months_num.append(8)\n",
    "    if entry == \"Sep\":\n",
    "        months_num.append(9)\n",
    "    if entry == \"Oct\":\n",
    "        months_num.append(10)\n",
    "    if entry == \"Nov\":\n",
    "        months_num.append(11)\n",
    "    if entry == \"Dec\":\n",
    "        months_num.append(12)"
   ]
  },
  {
   "cell_type": "code",
   "execution_count": null,
   "id": "32839309",
   "metadata": {},
   "outputs": [],
   "source": [
    "# uploading to DataFrame\n",
    "House_DF[\"Day of Sale\"] = day\n",
    "House_DF[\"Month of Sale\"] = month\n",
    "House_DF[\"Month of Sale (Number)\"] = months_num\n",
    "House_DF[\"Year of Sale\"] = year"
   ]
  },
  {
   "cell_type": "code",
   "execution_count": null,
   "id": "fff992f6",
   "metadata": {},
   "outputs": [],
   "source": [
    "House_DF.head()"
   ]
  },
  {
   "cell_type": "markdown",
   "id": "f0c7c0b6",
   "metadata": {},
   "source": [
    "Next I will also split the Date of Sale Column into relevant quarters and also quarters with their respective years"
   ]
  },
  {
   "cell_type": "code",
   "execution_count": null,
   "id": "598c7372",
   "metadata": {},
   "outputs": [],
   "source": [
    "quarters = []\n",
    "\n",
    "# loop to append the correct value to lists quarters based on result\n",
    "for mon in month:\n",
    "    if (mon == \"Jan\" or mon == \"Feb\" or mon == \"Mar\"):\n",
    "        quarters.append(\"Q1\")\n",
    "    if (mon == \"Apr\" or mon == \"May\" or mon == \"Jun\"):\n",
    "        quarters.append(\"Q2\")\n",
    "    if (mon == \"Jul\" or mon == \"Aug\" or mon == \"Sep\"):\n",
    "        quarters.append(\"Q3\")\n",
    "    if (mon == \"Oct\" or mon == \"Nov\" or mon == \"Dec\"):\n",
    "        quarters.append(\"Q4\")"
   ]
  },
  {
   "cell_type": "code",
   "execution_count": null,
   "id": "d41d47b4",
   "metadata": {},
   "outputs": [],
   "source": [
    "House_DF[\"Quarter of Sale\"] = quarters"
   ]
  },
  {
   "cell_type": "code",
   "execution_count": null,
   "id": "ba061c10",
   "metadata": {},
   "outputs": [],
   "source": [
    "month_year = []\n",
    "\n",
    "# extracting only month and year from Date of Sale (ignoring day)\n",
    "for sale in NEW_Date_of_sale:\n",
    "    data = sale.split(\" \")\n",
    "    string = data[1] + \" \" + data[2]\n",
    "    str(string)\n",
    "    month_year.append(string)"
   ]
  },
  {
   "cell_type": "code",
   "execution_count": null,
   "id": "321a855f",
   "metadata": {},
   "outputs": [],
   "source": [
    "quarters_and_year = []\n",
    "\n",
    "# loop to append the correct value to lists quarters_and_year based on result\n",
    "for entry in month_year:\n",
    "    if (entry == \"Jan 2016\" or entry == \"Feb 2016\" or entry == \"Mar 2016\"):\n",
    "        quarters_and_year.append(\"Q1 2016\")\n",
    "    if (entry == \"Apr 2016\" or entry == \"May 2016\" or entry == \"Jun 2016\"):\n",
    "        quarters_and_year.append(\"Q2 2016\")\n",
    "    if (entry == \"Jul 2016\" or entry == \"Aug 2016\" or entry == \"Sep 2016\"):\n",
    "        quarters_and_year.append(\"Q3 2016\")\n",
    "    if (entry == \"Oct 2016\" or entry == \"Nov 2016\" or entry == \"Dec 2016\"):\n",
    "        quarters_and_year.append(\"Q4 2016\")\n",
    "        \n",
    "    if (entry == \"Jan 2017\" or entry == \"Feb 2017\" or entry == \"Mar 2017\"):\n",
    "        quarters_and_year.append(\"Q1 2017\")\n",
    "    if (entry == \"Apr 2017\" or entry == \"May 2017\" or entry == \"Jun 2017\"):\n",
    "        quarters_and_year.append(\"Q2 2017\")\n",
    "    if (entry == \"Jul 2017\" or entry == \"Aug 2017\" or entry == \"Sep 2017\"):\n",
    "        quarters_and_year.append(\"Q3 2017\")\n",
    "    if (entry == \"Oct 2017\" or entry == \"Nov 2017\" or entry == \"Dec 2017\"):\n",
    "        quarters_and_year.append(\"Q4 2017\")\n",
    "        \n",
    "    if (entry == \"Jan 2018\" or entry == \"Feb 2018\" or entry == \"Mar 2018\"):\n",
    "        quarters_and_year.append(\"Q1 2018\")\n",
    "    if (entry == \"Apr 2018\" or entry == \"May 2018\" or entry == \"Jun 2018\"):\n",
    "        quarters_and_year.append(\"Q2 2018\")\n",
    "    if (entry == \"Jul 2018\" or entry == \"Aug 2018\" or entry == \"Sep 2018\"):\n",
    "        quarters_and_year.append(\"Q3 2018\")\n",
    "    if (entry == \"Oct 2018\" or entry == \"Nov 2018\" or entry == \"Dec 2018\"):\n",
    "        quarters_and_year.append(\"Q4 2018\")\n",
    "        \n",
    "    if (entry == \"Jan 2019\" or entry == \"Feb 2019\" or entry == \"Mar 2019\"):\n",
    "        quarters_and_year.append(\"Q1 2019\")\n",
    "    if (entry == \"Apr 2019\" or entry == \"May 2019\" or entry == \"Jun 2019\"):\n",
    "        quarters_and_year.append(\"Q2 2019\")\n",
    "    if (entry == \"Jul 2019\" or entry == \"Aug 2019\" or entry == \"Sep 2019\"):\n",
    "        quarters_and_year.append(\"Q3 2019\")\n",
    "    if (entry == \"Oct 2019\" or entry == \"Nov 2019\" or entry == \"Dec 2019\"):\n",
    "        quarters_and_year.append(\"Q4 2019\")"
   ]
  },
  {
   "cell_type": "code",
   "execution_count": null,
   "id": "b04eca67",
   "metadata": {},
   "outputs": [],
   "source": [
    "House_DF[\"Quarter & Year of Sale\"] = quarters_and_year"
   ]
  },
  {
   "cell_type": "code",
   "execution_count": null,
   "id": "c29f7a18",
   "metadata": {},
   "outputs": [],
   "source": [
    "House_DF.head()"
   ]
  },
  {
   "cell_type": "code",
   "execution_count": null,
   "id": "06ec01ed",
   "metadata": {},
   "outputs": [],
   "source": [
    "# current shape of dataframe with 945 rows and 15 columns (6 new columns were created from existing data)\n",
    "House_DF.shape"
   ]
  },
  {
   "cell_type": "code",
   "execution_count": null,
   "id": "6a3f01f0",
   "metadata": {},
   "outputs": [],
   "source": [
    "# changing data types of numeric columns\n",
    "House_DF[\"Price\"] = House_DF[\"Price\"].astype(str).astype(float)\n",
    "House_DF[\"Year Built\"] = House_DF[\"Year Built\"].astype(str).astype(int)\n",
    "House_DF[\"Size (in Sq Ft)\"] = House_DF[\"Size (in Sq Ft)\"].astype(str).astype(int)\n",
    "House_DF[\"Story no.\"] = House_DF[\"Story no.\"].astype(str).astype(float)\n",
    "House_DF[\"Bedrooms no.\"] = House_DF[\"Bedrooms no.\"].astype(str).astype(int)\n",
    "House_DF[\"Bathrooms no.\"] = House_DF[\"Bathrooms no.\"].astype(str).astype(int)\n",
    "House_DF[\"Day of Sale\"] = House_DF[\"Day of Sale\"].astype(str).astype(int)\n",
    "House_DF[\"Month of Sale (Number)\"] = House_DF[\"Month of Sale (Number)\"].astype(str).astype(int)\n",
    "House_DF[\"Year of Sale\"] = House_DF[\"Year of Sale\"].astype(str).astype(int)"
   ]
  },
  {
   "cell_type": "code",
   "execution_count": null,
   "id": "d143a093",
   "metadata": {},
   "outputs": [],
   "source": [
    "House_DF.dtypes"
   ]
  },
  {
   "cell_type": "markdown",
   "id": "19e1f9db",
   "metadata": {},
   "source": [
    "### I will now begin basic initial characterisation of the data under each of the following headings:\n",
    "- Date of Sale              \n",
    "- Price                   \n",
    "- Location                \n",
    "- Year Built                \n",
    "- Size (in Sq Ft)           \n",
    "- House Type                 \n",
    "- Story no.                 \n",
    "- Bedrooms no.                \n",
    "- Bathrooms no.              \n",
    "- Day of Sale                 \n",
    "- Month of Sale                    \n",
    "- Year of Sale              \n",
    "- Quarter of Sale            \n",
    "- Quarter & Year of Sale   \n",
    "\n",
    "**Note:** No Month of Sale (Number) as for this step it acts the same as Month of Sale"
   ]
  },
  {
   "cell_type": "markdown",
   "id": "a515baad",
   "metadata": {},
   "source": [
    "For each feature, I will look at the range of data and mean value. Will also graph data and note interpretations"
   ]
  },
  {
   "cell_type": "markdown",
   "id": "3fb83b81",
   "metadata": {},
   "source": [
    "#### 1. Date of Sale"
   ]
  },
  {
   "cell_type": "markdown",
   "id": "3faa9c72",
   "metadata": {},
   "source": [
    "Graph did not supply good information due to large amount of unique values - will examine without graph"
   ]
  },
  {
   "cell_type": "code",
   "execution_count": null,
   "id": "fccb339c",
   "metadata": {},
   "outputs": [],
   "source": [
    "# ordering by number of houses sold per day\n",
    "House_DF[\"Date of Sale\"].value_counts()"
   ]
  },
  {
   "cell_type": "code",
   "execution_count": null,
   "id": "be6df7d4",
   "metadata": {},
   "outputs": [],
   "source": [
    "print(\"Range of Data [%d - %d]\" % (House_DF[\"Date of Sale\"].value_counts().min(),  House_DF[\"Date of Sale\"].value_counts().max()))\n",
    "print(\"Mean of Data: %.2f\" % House_DF[\"Date of Sale\"].value_counts().mean())"
   ]
  },
  {
   "cell_type": "markdown",
   "id": "32c6a1df",
   "metadata": {},
   "source": [
    "Of course this is only dates on which a house was sold, so realistically there were multiple days of the four years where no house was sold"
   ]
  },
  {
   "cell_type": "code",
   "execution_count": null,
   "id": "f39c104f",
   "metadata": {},
   "outputs": [],
   "source": [
    "# number of unique dates\n",
    "House_DF[\"Date of Sale\"].nunique()"
   ]
  },
  {
   "cell_type": "markdown",
   "id": "d18125be",
   "metadata": {},
   "source": [
    "Out of 945 observations, only 500 dates were obserevd. Helps to explain our mean sales per day as 1.89"
   ]
  },
  {
   "cell_type": "markdown",
   "id": "be38d25a",
   "metadata": {},
   "source": [
    "###### *Key Points:*\n",
    "- Large amount of uniue dates (500) with decent range\n",
    "- All our of top 5 dates from sales all came from the beginning to the end of summer, could signal a trend\n",
    "- More information about potential trends will be seen when looking at a monthly/quarterly level along with useful graphs"
   ]
  },
  {
   "cell_type": "markdown",
   "id": "1b59922b",
   "metadata": {},
   "source": [
    "#### 2. Price"
   ]
  },
  {
   "cell_type": "code",
   "execution_count": null,
   "id": "fcfa4b7d",
   "metadata": {},
   "outputs": [],
   "source": [
    "ax = House_DF[\"Price\"].hist(bins=10, figsize=(12,6), color='green', grid=False, rwidth=0.9)\n",
    "plt.title(\"Histogram of number of houses per Price point\")\n",
    "plt.ticklabel_format(style='plain')\n",
    "plt.ylabel(\"Number of Houses\", fontsize=13)\n",
    "plt.xlabel(\"Price per House (in Euro)\", fontsize=13);"
   ]
  },
  {
   "cell_type": "code",
   "execution_count": null,
   "id": "04aba707",
   "metadata": {},
   "outputs": [],
   "source": [
    "print(\"Range of Data [%d - %d]\" % (House_DF[\"Price\"].min(),  House_DF[\"Price\"].max()))\n",
    "print(\"Mean of Data: %d\" % House_DF[\"Price\"].mean())"
   ]
  },
  {
   "cell_type": "markdown",
   "id": "1e87828d",
   "metadata": {},
   "source": [
    "###### *Key Points:*\n",
    "- Most house prices come in the range of 150,000 - 700,000\n",
    "- Very few entries come over 900,000\n",
    "- The most filled histogram bin is in the range of around 250,000 - 400,000\n",
    "- The three points above could signal that people prioritise affordable housing over other features"
   ]
  },
  {
   "cell_type": "markdown",
   "id": "8188699e",
   "metadata": {},
   "source": [
    "#### 3. Location"
   ]
  },
  {
   "cell_type": "code",
   "execution_count": null,
   "id": "27d7a2db",
   "metadata": {},
   "outputs": [],
   "source": [
    "plt.figure(figsize=(11,8))\n",
    "House_DF[\"Location\"].value_counts(ascending=True).plot(kind=\"bar\")\n",
    "plt.title(\"Bar Chart of number of houses per Location\")\n",
    "plt.xlabel(\"Locations in our Dataframe\", fontsize=13)\n",
    "plt.ylabel(\"Number of houses sold\", fontsize=13)\n",
    "plt.show()"
   ]
  },
  {
   "cell_type": "code",
   "execution_count": null,
   "id": "1d7dd7a1",
   "metadata": {},
   "outputs": [],
   "source": [
    "House_DF[\"Location\"].value_counts()"
   ]
  },
  {
   "cell_type": "code",
   "execution_count": null,
   "id": "caa4bfe5",
   "metadata": {},
   "outputs": [],
   "source": [
    "print(\"Range of Data [%d - %d]\" % (House_DF[\"Location\"].value_counts().min(),  House_DF[\"Location\"].value_counts().max()))\n",
    "print(\"Mean of Data: %d\" % House_DF[\"Location\"].value_counts().mean())"
   ]
  },
  {
   "cell_type": "markdown",
   "id": "1ab0ee7c",
   "metadata": {},
   "source": [
    "###### *Key Points:*\n",
    "- 7 unique locations with a wide spread of values\n",
    "- The top location (Oakbrook) has almost the same number of houses sold as the bottom three locations combined\n",
    "- As we are not also factoring in house pricing, we are unable to determine the attribute which makes Oakbrook so desirable\n",
    "- Could be due to affordable house prices, or just quantity of available houses in the area"
   ]
  },
  {
   "cell_type": "markdown",
   "id": "4c8cdb96",
   "metadata": {},
   "source": [
    "#### 4. Year Built"
   ]
  },
  {
   "cell_type": "code",
   "execution_count": null,
   "id": "0074d074",
   "metadata": {},
   "outputs": [],
   "source": [
    "ax = House_DF[\"Year Built\"].hist(bins=10, figsize=(12,6), color='green', grid=False, rwidth=0.9)\n",
    "plt.ticklabel_format(style='plain')\n",
    "plt.title(\"Histogram of number of houses sold by Year they were built\")\n",
    "plt.xlabel(\"Year Built\", fontsize=13);\n",
    "plt.ylabel(\"Number of Houses\", fontsize=13)\n",
    "plt.show()"
   ]
  },
  {
   "cell_type": "code",
   "execution_count": null,
   "id": "65cf0df0",
   "metadata": {},
   "outputs": [],
   "source": [
    "House_DF[\"Year Built\"].value_counts()"
   ]
  },
  {
   "cell_type": "code",
   "execution_count": null,
   "id": "adc95a99",
   "metadata": {},
   "outputs": [],
   "source": [
    "print(\"Range of Data [%d - %d]\" % (House_DF[\"Year Built\"].value_counts().min(),  House_DF[\"Year Built\"].value_counts().max()))\n",
    "print(\"Mean of Data: %d\" % House_DF[\"Year Built\"].value_counts().mean())"
   ]
  },
  {
   "cell_type": "markdown",
   "id": "b8dfc50f",
   "metadata": {},
   "source": [
    "###### *Key Points:*\n",
    "- The number of houses sold is greatly biased towards newer houses\n",
    "- The top 5 years for sales based on the year the house was built all came in the range of [2010 - 2018]\n",
    "- This could be due to the wish for more modern designs\n",
    "- The mean of the data is greatly being dragged down by houses built between 1880 and 1950"
   ]
  },
  {
   "cell_type": "markdown",
   "id": "b6a001ca",
   "metadata": {},
   "source": [
    "#### 5. Size (in Sq Ft)"
   ]
  },
  {
   "cell_type": "code",
   "execution_count": null,
   "id": "baac9c4e",
   "metadata": {},
   "outputs": [],
   "source": [
    "House_DF[\"Size (in Sq Ft)\"].value_counts()"
   ]
  },
  {
   "cell_type": "code",
   "execution_count": null,
   "id": "d2d67f68",
   "metadata": {},
   "outputs": [],
   "source": [
    "ax = House_DF[\"Size (in Sq Ft)\"].hist(bins=10, figsize=(12,6), color='green', grid=False, rwidth=0.9)\n",
    "plt.ticklabel_format(style='plain')\n",
    "plt.title(\"Histogram of number of houses sold by their Size\")\n",
    "plt.xlabel(\"Size of House (in Sq Ft)\", fontsize=13);\n",
    "plt.ylabel(\"Number of Houses\", fontsize=13)\n",
    "plt.show()"
   ]
  },
  {
   "cell_type": "code",
   "execution_count": null,
   "id": "72f47556",
   "metadata": {},
   "outputs": [],
   "source": [
    "print(\"Range of Data [%d - %d]\" % (House_DF[\"Size (in Sq Ft)\"].min(),  House_DF[\"Size (in Sq Ft)\"].max()))\n",
    "print(\"Mean of Data: %.2f\" % House_DF[\"Size (in Sq Ft)\"].value_counts().mean())\n",
    "print(\"Mean of Data: %.2f\" % House_DF[\"Size (in Sq Ft)\"].mean())"
   ]
  },
  {
   "cell_type": "markdown",
   "id": "d0865b76",
   "metadata": {},
   "source": [
    "###### *Key Points:*\n",
    "- Large amount of unique values (704)\n",
    "- Most data comes in the range [1000-1800]\n",
    "- Average sales per house price is 1.34 while the average house size is 1475.0\n",
    "- Very few data points coming over 2500 but few points do extend up to ~3500"
   ]
  },
  {
   "cell_type": "markdown",
   "id": "2517377b",
   "metadata": {},
   "source": [
    "#### 6. House Type"
   ]
  },
  {
   "cell_type": "code",
   "execution_count": null,
   "id": "02b09ce7",
   "metadata": {},
   "outputs": [],
   "source": [
    "House_DF[\"House Type\"].value_counts()"
   ]
  },
  {
   "cell_type": "code",
   "execution_count": null,
   "id": "97ddee45",
   "metadata": {},
   "outputs": [],
   "source": [
    "plt.figure(figsize=(11,8))\n",
    "House_DF[\"House Type\"].value_counts(ascending=True).plot(kind=\"bar\")\n",
    "plt.title(\"Bar chart of number of houses sold by House Type\")\n",
    "plt.xlabel(\"Type of House\", fontsize=13);\n",
    "plt.ylabel(\"Number of Houses\", fontsize=13)\n",
    "plt.show()"
   ]
  },
  {
   "cell_type": "code",
   "execution_count": null,
   "id": "095cf55a",
   "metadata": {},
   "outputs": [],
   "source": [
    "print(\"Range of Data [%d - %d]\" % (House_DF[\"House Type\"].value_counts().min(),  House_DF[\"House Type\"].value_counts().max()))\n",
    "print(\"Mean of Data: %d\" % House_DF[\"House Type\"].value_counts().mean())"
   ]
  },
  {
   "cell_type": "markdown",
   "id": "fda0b32b",
   "metadata": {},
   "source": [
    "###### *Key Points:*\n",
    "- Detached is by far the clear choice for best selling House Type\n",
    "- In fact, it accounts for more sales than every other House Type Combined\n",
    "- The other 5 House Types all fail to break 100 sales yet the Detached type brings the mean up to 157"
   ]
  },
  {
   "cell_type": "markdown",
   "id": "e8f039cf",
   "metadata": {},
   "source": [
    "#### 7. Story no. "
   ]
  },
  {
   "cell_type": "code",
   "execution_count": null,
   "id": "f317089a",
   "metadata": {},
   "outputs": [],
   "source": [
    "House_DF[\"Story no.\"].value_counts()"
   ]
  },
  {
   "cell_type": "code",
   "execution_count": null,
   "id": "da8b40cc",
   "metadata": {},
   "outputs": [],
   "source": [
    "plt.figure(figsize=(11,8))\n",
    "House_DF[\"Story no.\"].value_counts().sort_index().plot(kind=\"bar\")\n",
    "plt.title(\"Bar chart of number of houses sold by Story number\")\n",
    "plt.xlabel(\"Number of stories in house\", fontsize=13);\n",
    "plt.ylabel(\"Number of Houses\", fontsize=13)\n",
    "plt.show()"
   ]
  },
  {
   "cell_type": "code",
   "execution_count": null,
   "id": "fa37536b",
   "metadata": {},
   "outputs": [],
   "source": [
    "print(\"Range of Data [%d - %d]\" % (House_DF[\"Story no.\"].value_counts().min(),  House_DF[\"Story no.\"].value_counts().max()))\n",
    "print(\"Mean of Data: %d\" % House_DF[\"Story no.\"].value_counts().mean())"
   ]
  },
  {
   "cell_type": "markdown",
   "id": "9fa81f3c",
   "metadata": {},
   "source": [
    "###### *Key Points:*\n",
    "- Only three possible attributes for this category, with 1.0 stories being the clear favourite\n",
    "- The value of 1.5 might not suffer due to people disliking it, just from a lack of houses with this attribute\n",
    "- Still greatly lowers mean of values"
   ]
  },
  {
   "cell_type": "markdown",
   "id": "8e893128",
   "metadata": {},
   "source": [
    "#### 8. Bedrooms no."
   ]
  },
  {
   "cell_type": "code",
   "execution_count": null,
   "id": "4aacc092",
   "metadata": {},
   "outputs": [],
   "source": [
    "House_DF[\"Bedrooms no.\"].value_counts()"
   ]
  },
  {
   "cell_type": "code",
   "execution_count": null,
   "id": "7f0a268f",
   "metadata": {},
   "outputs": [],
   "source": [
    "plt.figure(figsize=(11,8))\n",
    "House_DF[\"Bedrooms no.\"].value_counts().sort_index().plot(kind=\"bar\")\n",
    "plt.title(\"Bar chart of number of houses sold by Bedroom number\")\n",
    "plt.xlabel(\"Number of bedrooms in house\", fontsize=13);\n",
    "plt.ylabel(\"Number of Houses\", fontsize=13)\n",
    "plt.show()"
   ]
  },
  {
   "cell_type": "code",
   "execution_count": null,
   "id": "4d7ac575",
   "metadata": {},
   "outputs": [],
   "source": [
    "print(\"Range of Data [%d - %d]\" % (House_DF[\"Bedrooms no.\"].value_counts().min(),  House_DF[\"Bedrooms no.\"].value_counts().max()))\n",
    "print(\"Mean of Data: %d\" % House_DF[\"Bedrooms no.\"].value_counts().mean())"
   ]
  },
  {
   "cell_type": "markdown",
   "id": "b51555ec",
   "metadata": {},
   "source": [
    "###### *Key Points:*\n",
    "- This graph almost takes the form of a symmetric distribution\n",
    "- Values of 1 and 5 are greatly unpopular\n",
    "- Values 2 and 4 are closer to the mean score but 3 is still the clear favourite\n",
    "- Mean score of 189 which only values 2 and 3 are above"
   ]
  },
  {
   "cell_type": "markdown",
   "id": "d038a1d1",
   "metadata": {},
   "source": [
    "#### 9. Bathrooms no."
   ]
  },
  {
   "cell_type": "code",
   "execution_count": null,
   "id": "fc426a8b",
   "metadata": {},
   "outputs": [],
   "source": [
    "House_DF[\"Bathrooms no.\"].value_counts()"
   ]
  },
  {
   "cell_type": "code",
   "execution_count": null,
   "id": "b0493488",
   "metadata": {},
   "outputs": [],
   "source": [
    "plt.figure(figsize=(11,8))\n",
    "House_DF[\"Bathrooms no.\"].value_counts().sort_index().plot(kind=\"bar\")\n",
    "plt.title(\"Bar chart of number of houses sold by Bathroom number\")\n",
    "plt.xlabel(\"Number of bathrooms in house\", fontsize=13);\n",
    "plt.ylabel(\"Number of Houses\", fontsize=13)\n",
    "plt.show()"
   ]
  },
  {
   "cell_type": "code",
   "execution_count": null,
   "id": "3661785e",
   "metadata": {},
   "outputs": [],
   "source": [
    "print(\"Range of Data [%d - %d]\" % (House_DF[\"Bathrooms no.\"].value_counts().min(),  House_DF[\"Bathrooms no.\"].value_counts().max()))\n",
    "print(\"Mean of Data: %d\" % House_DF[\"Bathrooms no.\"].value_counts().mean())"
   ]
  },
  {
   "cell_type": "markdown",
   "id": "3145b36d",
   "metadata": {},
   "source": [
    "###### *Key Points:*\n",
    "- Only 3 data attributes for this feature with values of 410, 508 and 27 respectively\n",
    "- The score of 27 mainly causes the mean to drop to 315\n",
    "- Shows that having 3 bathrooms is not popular\n",
    "- Or perhaps linked with more expensive properties causing their lack of popularity"
   ]
  },
  {
   "cell_type": "markdown",
   "id": "b4fcb1e6",
   "metadata": {},
   "source": [
    "#### 10. Day of Sale"
   ]
  },
  {
   "cell_type": "code",
   "execution_count": null,
   "id": "91c22ba7",
   "metadata": {},
   "outputs": [],
   "source": [
    "House_DF[\"Day of Sale\"].value_counts().head()"
   ]
  },
  {
   "cell_type": "code",
   "execution_count": null,
   "id": "464bc76c",
   "metadata": {},
   "outputs": [],
   "source": [
    "plt.figure(figsize=(17,8))\n",
    "House_DF[\"Day of Sale\"].value_counts().sort_index().plot(kind=\"bar\")\n",
    "plt.title(\"Bar chart of number of houses sold by per Day\")\n",
    "plt.xlabel(\"Days\", fontsize=13);\n",
    "plt.ylabel(\"Number of Houses sold\", fontsize=13)\n",
    "plt.show()"
   ]
  },
  {
   "cell_type": "code",
   "execution_count": null,
   "id": "4e68d35d",
   "metadata": {},
   "outputs": [],
   "source": [
    "print(\"Range of Data [%d - %d]\" % (House_DF[\"Day of Sale\"].value_counts().min(),  House_DF[\"Day of Sale\"].value_counts().max()))\n",
    "print(\"Mean of Data: %.2f\" % House_DF[\"Day of Sale\"].value_counts().mean())"
   ]
  },
  {
   "cell_type": "markdown",
   "id": "893306ae",
   "metadata": {},
   "source": [
    "###### *Key Points:*\n",
    "- Mean of data is 33.75 yet the mean for days 1-3 is ~70\n",
    "- Shows that being at the start of a month is more popular\n",
    "- Outside of this, the other days seem to follow a similar pattern of near the mean"
   ]
  },
  {
   "cell_type": "markdown",
   "id": "ab04d4bf",
   "metadata": {},
   "source": [
    "#### 11. Month of Sale"
   ]
  },
  {
   "cell_type": "code",
   "execution_count": null,
   "id": "bd1df339",
   "metadata": {},
   "outputs": [],
   "source": [
    "House_DF[\"Month of Sale (Number)\"].value_counts()"
   ]
  },
  {
   "cell_type": "code",
   "execution_count": null,
   "id": "72e4dc57",
   "metadata": {},
   "outputs": [],
   "source": [
    "plt.figure(figsize=(17,8))\n",
    "House_DF[\"Month of Sale (Number)\"].value_counts().sort_index().plot(kind=\"bar\")\n",
    "plt.title(\"Bar chart of number of houses sold by per Month\")\n",
    "plt.xlabel(\"Months\", fontsize=13);\n",
    "plt.ylabel(\"Number of Houses sold\", fontsize=13)\n",
    "plt.show()"
   ]
  },
  {
   "cell_type": "code",
   "execution_count": null,
   "id": "32d640d4",
   "metadata": {},
   "outputs": [],
   "source": [
    "print(\"Range of Data [%d - %d]\" % (House_DF[\"Month of Sale\"].value_counts().min(),  House_DF[\"Month of Sale\"].value_counts().max()))\n",
    "print(\"Mean of Data: %.2f\" % House_DF[\"Month of Sale\"].value_counts().mean())"
   ]
  },
  {
   "cell_type": "markdown",
   "id": "6921b6bd",
   "metadata": {},
   "source": [
    "###### *Key Points:*\n",
    "- This graph shows the emergence of a trend spotted when looking at feature one, date of sale\n",
    "- Summer months are clearly the most popular for buying a house\n",
    "- This graph also follows a symmetric distribution with the start and end of each year not seeming popular among buyers"
   ]
  },
  {
   "cell_type": "markdown",
   "id": "213ae6fd",
   "metadata": {},
   "source": [
    "#### 12. Quarter of Sale"
   ]
  },
  {
   "cell_type": "code",
   "execution_count": null,
   "id": "0ba16380",
   "metadata": {},
   "outputs": [],
   "source": [
    "House_DF[\"Quarter of Sale\"].value_counts()"
   ]
  },
  {
   "cell_type": "code",
   "execution_count": null,
   "id": "01bd4042",
   "metadata": {},
   "outputs": [],
   "source": [
    "plt.figure(figsize=(17,8))\n",
    "House_DF[\"Quarter of Sale\"].value_counts().sort_index().plot(kind=\"bar\")\n",
    "plt.title(\"Bar chart of number of houses sold by per Quarter\")\n",
    "plt.xlabel(\"Quarters\", fontsize=13);\n",
    "plt.ylabel(\"Number of Houses sold\", fontsize=13)\n",
    "plt.show()"
   ]
  },
  {
   "cell_type": "code",
   "execution_count": null,
   "id": "53d4b367",
   "metadata": {},
   "outputs": [],
   "source": [
    "print(\"Range of Data [%d - %d]\" % (House_DF[\"Quarter of Sale\"].value_counts().min(),  House_DF[\"Quarter of Sale\"].value_counts().max()))\n",
    "print(\"Mean of Data: %.2f\" % House_DF[\"Quarter of Sale\"].value_counts().mean())"
   ]
  },
  {
   "cell_type": "markdown",
   "id": "d9c2efe8",
   "metadata": {},
   "source": [
    "###### *Key Points:*\n",
    "- Similar to the graph above, shows the popularity of buying a house in the middle of the year"
   ]
  },
  {
   "cell_type": "markdown",
   "id": "45c6dbd9",
   "metadata": {},
   "source": [
    "#### 13. Year of Sale"
   ]
  },
  {
   "cell_type": "code",
   "execution_count": null,
   "id": "b6e7d842",
   "metadata": {},
   "outputs": [],
   "source": [
    "House_DF[\"Year of Sale\"].value_counts()"
   ]
  },
  {
   "cell_type": "code",
   "execution_count": null,
   "id": "2a5df1aa",
   "metadata": {},
   "outputs": [],
   "source": [
    "plt.figure(figsize=(17,8))\n",
    "House_DF[\"Year of Sale\"].value_counts().sort_index().plot(kind=\"bar\")\n",
    "plt.title(\"Bar chart of number of houses sold by per Year\")\n",
    "plt.xlabel(\"Years\", fontsize=13);\n",
    "plt.ylabel(\"Number of Houses sold\", fontsize=13)\n",
    "plt.show()"
   ]
  },
  {
   "cell_type": "code",
   "execution_count": null,
   "id": "b5baa83a",
   "metadata": {},
   "outputs": [],
   "source": [
    "print(\"Range of Data [%d - %d]\" % (House_DF[\"Year of Sale\"].value_counts().min(),  House_DF[\"Year of Sale\"].value_counts().max()))\n",
    "print(\"Mean of Data: %.2f\" % House_DF[\"Year of Sale\"].value_counts().mean())"
   ]
  },
  {
   "cell_type": "markdown",
   "id": "07364881",
   "metadata": {},
   "source": [
    "###### *Key Points:*\n",
    "- This graph shows a trend of an increase in house sales in order of years\n",
    "- This could be a sign of an increased need for housing in recent years"
   ]
  },
  {
   "cell_type": "markdown",
   "id": "8fbabdd8",
   "metadata": {},
   "source": [
    "#### 14. Quarter & Year of Sale"
   ]
  },
  {
   "cell_type": "code",
   "execution_count": null,
   "id": "1ec9b951",
   "metadata": {},
   "outputs": [],
   "source": [
    "House_DF[\"Quarter & Year of Sale\"].value_counts()"
   ]
  },
  {
   "cell_type": "code",
   "execution_count": null,
   "id": "55869dcf",
   "metadata": {},
   "outputs": [],
   "source": [
    "plt.figure(figsize=(17,8))\n",
    "House_DF[\"Quarter & Year of Sale\"].value_counts().sort_index().plot(kind=\"bar\")\n",
    "plt.title(\"Bar chart of number of houses sold by per Quarter & Year\")\n",
    "plt.xlabel(\"Quarters & Years\", fontsize=13);\n",
    "plt.ylabel(\"Number of Houses sold\", fontsize=13)\n",
    "plt.show()"
   ]
  },
  {
   "cell_type": "code",
   "execution_count": null,
   "id": "1b92dfce",
   "metadata": {},
   "outputs": [],
   "source": [
    "print(\"Range of Data [%d - %d]\" % (House_DF[\"Quarter & Year of Sale\"].value_counts().min(),  House_DF[\"Quarter & Year of Sale\"].value_counts().max()))\n",
    "print(\"Mean of Data: %.2f\" % House_DF[\"Quarter & Year of Sale\"].value_counts().mean())"
   ]
  },
  {
   "cell_type": "markdown",
   "id": "d8e4166d",
   "metadata": {},
   "source": [
    "###### *Key Points:*\n",
    "- This graph combines the values of Quarter and Year of Sale\n",
    "- Reinforces the two points previously made\n",
    "1. Summer months are more popular for buyers\n",
    "2. Increase in house sales steadily over the past four years"
   ]
  },
  {
   "cell_type": "markdown",
   "id": "84b3e384",
   "metadata": {},
   "source": [
    "# 2. Time Series Analysis"
   ]
  },
  {
   "cell_type": "markdown",
   "id": "b79c3fc9",
   "metadata": {},
   "source": [
    "#### a) Construct a time series from the data, representing the number of house sales per day. Visualise this series at daily, monthly, and quarterly frequencies. Discuss how the number of sales is changing over time."
   ]
  },
  {
   "cell_type": "markdown",
   "id": "558f1efe",
   "metadata": {},
   "source": [
    "For this question relating to time series analysis we need each entry in our dataframe in the form of datetime. I will start by creating a new Datetime column for our dataframe values from our existing data"
   ]
  },
  {
   "cell_type": "code",
   "execution_count": null,
   "id": "1342bc97",
   "metadata": {},
   "outputs": [],
   "source": [
    "House_DF.head()"
   ]
  },
  {
   "cell_type": "code",
   "execution_count": null,
   "id": "036685f4",
   "metadata": {},
   "outputs": [],
   "source": [
    "# placing data from dataframe into related lists\n",
    "days = House_DF[\"Day of Sale\"]\n",
    "months = House_DF[\"Month of Sale (Number)\"]\n",
    "years = House_DF[\"Year of Sale\"]"
   ]
  },
  {
   "cell_type": "code",
   "execution_count": null,
   "id": "67034a2f",
   "metadata": {},
   "outputs": [],
   "source": [
    "# placing datatime values from our dataframe into list date_list\n",
    "date_list = []\n",
    "i=0\n",
    "for entry in days:\n",
    "    date_list.append(datetime(years[i], months[i], days[i]))\n",
    "    i+=1"
   ]
  },
  {
   "cell_type": "code",
   "execution_count": null,
   "id": "292e2a2c",
   "metadata": {},
   "outputs": [],
   "source": [
    "# checking our data is as required\n",
    "date_list"
   ]
  },
  {
   "cell_type": "code",
   "execution_count": null,
   "id": "82cf79e2",
   "metadata": {},
   "outputs": [],
   "source": [
    "# uploading this list to our dataframe\n",
    "House_DF[\"Datetime\"] = date_list"
   ]
  },
  {
   "cell_type": "code",
   "execution_count": null,
   "id": "71b73766",
   "metadata": {},
   "outputs": [],
   "source": [
    "House_DF.head()"
   ]
  },
  {
   "cell_type": "markdown",
   "id": "2c2fcfaa",
   "metadata": {},
   "source": [
    "##### I will start by looking at this data in a daily frequency"
   ]
  },
  {
   "cell_type": "code",
   "execution_count": null,
   "id": "9610a224",
   "metadata": {},
   "outputs": [],
   "source": [
    "dates_unique = House_DF[\"Datetime\"].unique()"
   ]
  },
  {
   "cell_type": "code",
   "execution_count": null,
   "id": "95d9facb",
   "metadata": {},
   "outputs": [],
   "source": [
    "dates_with_counts = House_DF[\"Datetime\"].value_counts(sort=False)"
   ]
  },
  {
   "cell_type": "code",
   "execution_count": null,
   "id": "ec0bdeec",
   "metadata": {},
   "outputs": [],
   "source": [
    "counts = []\n",
    "for i in range(len(dates_with_counts)):\n",
    "    print(dates_with_counts[i])\n",
    "    counts.append(dates_with_counts[i])"
   ]
  },
  {
   "cell_type": "code",
   "execution_count": null,
   "id": "4723538e",
   "metadata": {},
   "outputs": [],
   "source": [
    "plt.figure(figsize=(20,6))\n",
    "plt.plot(dates_unique, counts)\n",
    "plt.title(\"Time Series Analysis of House Sales at a daily frequency\")\n",
    "plt.xlabel(\"Time in days\", fontsize = 13)\n",
    "plt.ylabel(\"Number of houses sold\", fontsize = 13)\n",
    "plt.show()"
   ]
  },
  {
   "cell_type": "markdown",
   "id": "176d5762",
   "metadata": {},
   "source": [
    "Hard to take much value from this graph due to large amount of unique days as input. Although can see clear spikes in data with most data coming in 1-3 range"
   ]
  },
  {
   "cell_type": "markdown",
   "id": "07cfeba3",
   "metadata": {},
   "source": [
    "##### I will now look at this data in a monthly frequency"
   ]
  },
  {
   "cell_type": "code",
   "execution_count": null,
   "id": "29bc1073",
   "metadata": {},
   "outputs": [],
   "source": [
    "ts = pd.Series(counts, index=dates_unique)"
   ]
  },
  {
   "cell_type": "code",
   "execution_count": null,
   "id": "1408cbf7",
   "metadata": {},
   "outputs": [],
   "source": [
    "# changing time series to monthly frequency\n",
    "time_series_monthly = ts.resample(\"M\").sum()"
   ]
  },
  {
   "cell_type": "code",
   "execution_count": null,
   "id": "d4c5028d",
   "metadata": {},
   "outputs": [],
   "source": [
    "plt.figure(figsize=(20,6))\n",
    "plt.plot(time_series_monthly, marker = \"x\", markersize=10)\n",
    "plt.title(\"Time Series Analysis of House Sales at a monthly frequency\")\n",
    "plt.xlabel(\"Time in months\", fontsize = 13)\n",
    "plt.ylabel(\"Number of houses sold\", fontsize = 13)\n",
    "plt.show()"
   ]
  },
  {
   "cell_type": "markdown",
   "id": "1a56dae1",
   "metadata": {},
   "source": [
    "We can see the clear emergence of a trend towards sales peaking in summer months, regardless of the year. Also clear slumps at the start of each year"
   ]
  },
  {
   "cell_type": "markdown",
   "id": "d69d70f6",
   "metadata": {},
   "source": [
    "##### I will now look at this data in a quarterly frequency"
   ]
  },
  {
   "cell_type": "code",
   "execution_count": null,
   "id": "9a7bd8ae",
   "metadata": {},
   "outputs": [],
   "source": [
    "# changing time series to quarterly frequency\n",
    "time_series_quarterly = ts.resample(\"Q\").sum()"
   ]
  },
  {
   "cell_type": "code",
   "execution_count": null,
   "id": "77cbd132",
   "metadata": {},
   "outputs": [],
   "source": [
    "plt.figure(figsize=(20,6))\n",
    "plt.plot(time_series_quarterly, marker = \"x\", markersize=10)\n",
    "plt.title(\"Time Series Analysis of House Sales at a monthly frequency\")\n",
    "plt.xlabel(\"Time in quarters\", fontsize = 13)\n",
    "plt.ylabel(\"Number of houses sold\", fontsize = 13)\n",
    "plt.show()"
   ]
  },
  {
   "cell_type": "markdown",
   "id": "2763cd80",
   "metadata": {},
   "source": [
    "Similar results to our analysis at a monthly frequency. Clear peaks and slumps at summer versus winter months"
   ]
  },
  {
   "cell_type": "markdown",
   "id": "59a3c81c",
   "metadata": {},
   "source": [
    "#### b) Construct another time series from the data, showing how the overall average monthly sale price of houses is changing over time. Discuss the trends in this series."
   ]
  },
  {
   "cell_type": "code",
   "execution_count": null,
   "id": "6032a890",
   "metadata": {},
   "outputs": [],
   "source": [
    "# isolating datetime and price columns\n",
    "df = pd.DataFrame(House_DF[\"Datetime\"])\n",
    "df[\"Price\"] = House_DF[\"Price\"]"
   ]
  },
  {
   "cell_type": "code",
   "execution_count": null,
   "id": "55c6a4a9",
   "metadata": {},
   "outputs": [],
   "source": [
    "print(df.groupby('Datetime').sum())"
   ]
  },
  {
   "cell_type": "code",
   "execution_count": null,
   "id": "6ee5914a",
   "metadata": {},
   "outputs": [],
   "source": [
    "daily_prices = df.groupby('Datetime').sum()"
   ]
  },
  {
   "cell_type": "code",
   "execution_count": null,
   "id": "6ddbff86",
   "metadata": {},
   "outputs": [],
   "source": [
    "# finding average house prices per month\n",
    "new_monthly_prices = daily_prices.resample(\"M\").mean()"
   ]
  },
  {
   "cell_type": "code",
   "execution_count": null,
   "id": "54c4cd0e",
   "metadata": {},
   "outputs": [],
   "source": [
    "# average house prices per month\n",
    "new_monthly_prices"
   ]
  },
  {
   "cell_type": "code",
   "execution_count": null,
   "id": "21145004",
   "metadata": {},
   "outputs": [],
   "source": [
    "plt.figure(figsize=(20,6))\n",
    "plt.plot(new_monthly_prices, marker=\"o\", markersize=10)\n",
    "plt.title(\"Time Series Analysis of House Sales at a monthly frequency\")\n",
    "plt.xlabel(\"Time in months\", fontsize = 13)\n",
    "plt.ylabel(\"Average sale prices of houses per month\", fontsize = 13)\n",
    "plt.show()"
   ]
  },
  {
   "cell_type": "markdown",
   "id": "d2b5b229",
   "metadata": {},
   "source": [
    "Can see a wide range of values with many drops and peaks in the graph. Data hits its lowest point in late 2017 but instantly picks back up to average the following month. The highest 3 month stretch came in mid 2019"
   ]
  },
  {
   "cell_type": "markdown",
   "id": "99e52328",
   "metadata": {},
   "source": [
    "#### c) For each unique location in the data, construct a separate time series representing the average monthly price of houses sold in that location. Compare and discuss the differences between the trends across the locations."
   ]
  },
  {
   "cell_type": "markdown",
   "id": "93aeb3e0",
   "metadata": {},
   "source": [
    "I will start by creating a seperate dataframe containing just Datetime, House Prices and Locations"
   ]
  },
  {
   "cell_type": "code",
   "execution_count": null,
   "id": "aef06e9f",
   "metadata": {},
   "outputs": [],
   "source": [
    "D_P_Ldf = pd.DataFrame(House_DF[\"Datetime\"])\n",
    "D_P_Ldf[\"Location\"] = House_DF[\"Location\"]\n",
    "D_P_Ldf[\"Price\"] = House_DF[\"Price\"]"
   ]
  },
  {
   "cell_type": "code",
   "execution_count": null,
   "id": "9a1acc59",
   "metadata": {},
   "outputs": [],
   "source": [
    "D_P_Ldf.head()"
   ]
  },
  {
   "cell_type": "code",
   "execution_count": null,
   "id": "7930c6a1",
   "metadata": {},
   "outputs": [],
   "source": [
    "D_P_Ldf[\"Location\"].value_counts()"
   ]
  },
  {
   "cell_type": "markdown",
   "id": "de7832ae",
   "metadata": {},
   "source": [
    "I will now go through each of the locations shown above one by one and perform a time series analysis representing the average monthly house price for that location"
   ]
  },
  {
   "cell_type": "markdown",
   "id": "18842986",
   "metadata": {},
   "source": [
    "#### 1. Oakbrook"
   ]
  },
  {
   "cell_type": "code",
   "execution_count": null,
   "id": "c4c2d1d4",
   "metadata": {},
   "outputs": [],
   "source": [
    "# isolating specific location\n",
    "Oakbrook=D_P_Ldf.loc[D_P_Ldf['Location'] == \"Oakbrook\"]\n",
    "Oakbrook = Oakbrook.groupby('Datetime').sum()"
   ]
  },
  {
   "cell_type": "code",
   "execution_count": null,
   "id": "bca783c0",
   "metadata": {},
   "outputs": [],
   "source": [
    "new_monthly_prices_Oakbrook = Oakbrook.resample(\"M\").mean()"
   ]
  },
  {
   "cell_type": "code",
   "execution_count": null,
   "id": "42c0e53b",
   "metadata": {},
   "outputs": [],
   "source": [
    "prices = []\n",
    "for i in range(len(new_monthly_prices_Oakbrook)):\n",
    "    prices.append(new_monthly_prices_Oakbrook.iloc[i][0])"
   ]
  },
  {
   "cell_type": "code",
   "execution_count": null,
   "id": "4e5ccdb9",
   "metadata": {},
   "outputs": [],
   "source": [
    "# finding months with sales and without sales\n",
    "months_with_sales = 0\n",
    "months_without_sales = 0\n",
    "j = 0\n",
    "for i in range(len(prices)):\n",
    "    if(prices[i] > 0):\n",
    "        j+=1\n",
    "months_with_sales = j\n",
    "months_without_sales = len(prices) - j"
   ]
  },
  {
   "cell_type": "code",
   "execution_count": null,
   "id": "9e438a26",
   "metadata": {},
   "outputs": [],
   "source": [
    "data = {'Months with house sales':months_with_sales, 'Months without house sales':months_without_sales}\n",
    "courses = list(data.keys())\n",
    "values = list(data.values())\n",
    "  \n",
    "fig = plt.figure(figsize = (5, 5))\n",
    " \n",
    "# creating the bar plot\n",
    "plt.bar(courses, values, color ='maroon',\n",
    "        width = 0.8)\n",
    "plt.title(\"Bar chart of Months with sales vs. Months with no sales\")\n",
    "plt.show()\n",
    "print(\"Total months: \" + str(months_with_sales + months_without_sales))\n",
    "print(\"Months with House sales: \" + str(months_with_sales))\n",
    "print(\"Months without House sales: \" + str(months_without_sales))"
   ]
  },
  {
   "cell_type": "markdown",
   "id": "a5ea5980",
   "metadata": {},
   "source": [
    "In the graph above, the total months count is 48 as the first sale was in January 2016. This will not be the case for every Location as the first sale coming in March 2016 will cause total months count to be 46 etc. The months without house sales is provided to explain the graphs in the graphs below. The higher the value, the more gaps in the following graphs"
   ]
  },
  {
   "cell_type": "code",
   "execution_count": null,
   "id": "4286da87",
   "metadata": {},
   "outputs": [],
   "source": [
    "plt.figure(figsize=(20,6))\n",
    "plt.plot(new_monthly_prices_Oakbrook, marker=\"o\", markersize=10)\n",
    "plt.title(\"Time Series Analysis of avergae house price in Oakbrook at a monthly frequency\")\n",
    "plt.xlabel(\"Time in months\", fontsize = 13)\n",
    "plt.ylabel(\"Number of houses sold\", fontsize = 13)\n",
    "plt.ylim(150000, 1850000)\n",
    "plt.show()"
   ]
  },
  {
   "cell_type": "markdown",
   "id": "a2347ac5",
   "metadata": {},
   "source": [
    "#### 2. Brookville"
   ]
  },
  {
   "cell_type": "code",
   "execution_count": null,
   "id": "8e280aba",
   "metadata": {},
   "outputs": [],
   "source": [
    "# isolating specific location\n",
    "Brookville=D_P_Ldf.loc[D_P_Ldf['Location'] == \"Brookville\"]\n",
    "Brookville = Brookville.groupby('Datetime').sum()"
   ]
  },
  {
   "cell_type": "code",
   "execution_count": null,
   "id": "4b676267",
   "metadata": {},
   "outputs": [],
   "source": [
    "new_monthly_prices_Brookville = Brookville.resample(\"M\").mean()"
   ]
  },
  {
   "cell_type": "code",
   "execution_count": null,
   "id": "c0d8f135",
   "metadata": {},
   "outputs": [],
   "source": [
    "prices = []\n",
    "for i in range(len(new_monthly_prices_Brookville)):\n",
    "    prices.append(new_monthly_prices_Brookville.iloc[i][0])"
   ]
  },
  {
   "cell_type": "code",
   "execution_count": null,
   "id": "1558158a",
   "metadata": {},
   "outputs": [],
   "source": [
    "months_with_sales = 0\n",
    "months_without_sales = 0\n",
    "j = 0\n",
    "for i in range(len(prices)):\n",
    "    if(prices[i] > 0):\n",
    "        j+=1\n",
    "months_with_sales = j\n",
    "months_without_sales = len(prices) - j"
   ]
  },
  {
   "cell_type": "code",
   "execution_count": null,
   "id": "f97848bc",
   "metadata": {},
   "outputs": [],
   "source": [
    "data = {'Months with house sales':months_with_sales, 'Months without house sales':months_without_sales}\n",
    "courses = list(data.keys())\n",
    "values = list(data.values())\n",
    "  \n",
    "fig = plt.figure(figsize = (5, 5))\n",
    " \n",
    "# creating the bar plot\n",
    "plt.bar(courses, values, color ='maroon',\n",
    "        width = 0.8)\n",
    "plt.title(\"Bar chart of Months with sales vs. Months with no sales\")\n",
    "plt.show()\n",
    "print(\"Total months: \" + str(months_with_sales + months_without_sales))\n",
    "print(\"Months with House sales: \" + str(months_with_sales))\n",
    "print(\"Months without House sales: \" + str(months_without_sales))"
   ]
  },
  {
   "cell_type": "code",
   "execution_count": null,
   "id": "87f01705",
   "metadata": {},
   "outputs": [],
   "source": [
    "plt.figure(figsize=(20,6))\n",
    "plt.plot(new_monthly_prices_Brookville, marker=\"o\", markersize=10)\n",
    "plt.title(\"Time Series Analysis of avergae house price in Brookville at a monthly frequency\")\n",
    "plt.xlabel(\"Time in months\", fontsize = 13)\n",
    "plt.ylabel(\"Number of houses sold\", fontsize = 13)\n",
    "plt.ylim(150000, 18500000)\n",
    "plt.show()"
   ]
  },
  {
   "cell_type": "markdown",
   "id": "abc9b1a9",
   "metadata": {},
   "source": [
    "#### 3. Rivermont"
   ]
  },
  {
   "cell_type": "code",
   "execution_count": null,
   "id": "ff1ca6b8",
   "metadata": {},
   "outputs": [],
   "source": [
    "# isolating specific location\n",
    "Rivermont=D_P_Ldf.loc[D_P_Ldf['Location'] == \"Rivermont\"]\n",
    "Rivermont = Rivermont.groupby('Datetime').sum()"
   ]
  },
  {
   "cell_type": "code",
   "execution_count": null,
   "id": "85ea4316",
   "metadata": {},
   "outputs": [],
   "source": [
    "new_monthly_prices_Rivermont = Rivermont.resample(\"M\").mean()"
   ]
  },
  {
   "cell_type": "code",
   "execution_count": null,
   "id": "22e2acbf",
   "metadata": {},
   "outputs": [],
   "source": [
    "prices = []\n",
    "for i in range(len(new_monthly_prices_Rivermont)):\n",
    "    prices.append(new_monthly_prices_Rivermont.iloc[i][0])"
   ]
  },
  {
   "cell_type": "code",
   "execution_count": null,
   "id": "3251863e",
   "metadata": {},
   "outputs": [],
   "source": [
    "months_with_sales = 0\n",
    "months_without_sales = 0\n",
    "j = 0\n",
    "for i in range(len(prices)):\n",
    "    if(prices[i] > 0):\n",
    "        j+=1\n",
    "months_with_sales = j\n",
    "months_without_sales = len(prices) - j"
   ]
  },
  {
   "cell_type": "code",
   "execution_count": null,
   "id": "7f4c5ea3",
   "metadata": {},
   "outputs": [],
   "source": [
    "data = {'Months with house sales':months_with_sales, 'Months without house sales':months_without_sales}\n",
    "courses = list(data.keys())\n",
    "values = list(data.values())\n",
    "  \n",
    "fig = plt.figure(figsize = (5, 5))\n",
    " \n",
    "# creating the bar plot\n",
    "plt.bar(courses, values, color ='maroon',\n",
    "        width = 0.8)\n",
    "plt.title(\"Bar chart of Months with sales vs. Months with no sales\")\n",
    "plt.show()\n",
    "print(\"Total months: \" + str(months_with_sales + months_without_sales))\n",
    "print(\"Months with House sales: \" + str(months_with_sales))\n",
    "print(\"Months without House sales: \" + str(months_without_sales))"
   ]
  },
  {
   "cell_type": "code",
   "execution_count": null,
   "id": "8dddac8e",
   "metadata": {},
   "outputs": [],
   "source": [
    "plt.figure(figsize=(20,6))\n",
    "plt.plot(new_monthly_prices_Rivermont, marker=\"o\", markersize=10)\n",
    "plt.title(\"Time Series Analysis of avergae house price in Rivermont at a monthly frequency\")\n",
    "plt.xlabel(\"Time in months\", fontsize = 13)\n",
    "plt.ylabel(\"Number of houses sold\", fontsize = 13)\n",
    "plt.ylim(150000, 1850000)\n",
    "plt.show()"
   ]
  },
  {
   "cell_type": "markdown",
   "id": "396e716b",
   "metadata": {},
   "source": [
    "#### 4. East End"
   ]
  },
  {
   "cell_type": "code",
   "execution_count": null,
   "id": "714e8f1d",
   "metadata": {},
   "outputs": [],
   "source": [
    "# isolating specific location\n",
    "East_End=D_P_Ldf.loc[D_P_Ldf['Location'] == \"East End\"]\n",
    "East_End = East_End.groupby('Datetime').sum()"
   ]
  },
  {
   "cell_type": "code",
   "execution_count": null,
   "id": "652839b9",
   "metadata": {},
   "outputs": [],
   "source": [
    "new_monthly_prices_East_End = East_End.resample(\"M\").mean()"
   ]
  },
  {
   "cell_type": "code",
   "execution_count": null,
   "id": "64faa478",
   "metadata": {},
   "outputs": [],
   "source": [
    "prices = []\n",
    "for i in range(len(new_monthly_prices_East_End)):\n",
    "    prices.append(new_monthly_prices_East_End.iloc[i][0])"
   ]
  },
  {
   "cell_type": "code",
   "execution_count": null,
   "id": "a6841b38",
   "metadata": {},
   "outputs": [],
   "source": [
    "months_with_sales = 0\n",
    "months_without_sales = 0\n",
    "j = 0\n",
    "for i in range(len(prices)):\n",
    "    if(prices[i] > 0):\n",
    "        j+=1\n",
    "months_with_sales = j\n",
    "months_without_sales = len(prices) - j"
   ]
  },
  {
   "cell_type": "code",
   "execution_count": null,
   "id": "757aae83",
   "metadata": {},
   "outputs": [],
   "source": [
    "data = {'Months with house sales':months_with_sales, 'Months without house sales':months_without_sales}\n",
    "courses = list(data.keys())\n",
    "values = list(data.values())\n",
    "  \n",
    "fig = plt.figure(figsize = (5, 5))\n",
    " \n",
    "# creating the bar plot\n",
    "plt.bar(courses, values, color ='maroon',\n",
    "        width = 0.8)\n",
    "plt.title(\"Bar chart of Months with sales vs. Months with no sales\")\n",
    "plt.show()\n",
    "print(\"Total months: \" + str(months_with_sales + months_without_sales))\n",
    "print(\"Months with House sales: \" + str(months_with_sales))\n",
    "print(\"Months without House sales: \" + str(months_without_sales))"
   ]
  },
  {
   "cell_type": "code",
   "execution_count": null,
   "id": "ccc509a5",
   "metadata": {},
   "outputs": [],
   "source": [
    "plt.figure(figsize=(20,6))\n",
    "plt.plot(new_monthly_prices_East_End, marker=\"o\", markersize=10)\n",
    "plt.title(\"Time Series Analysis of avergae house price in East End at a monthly frequency\")\n",
    "plt.xlabel(\"Time in months\", fontsize = 13)\n",
    "plt.ylabel(\"Number of houses sold\", fontsize = 13)\n",
    "plt.ylim(150000, 1850000)\n",
    "plt.show()"
   ]
  },
  {
   "cell_type": "markdown",
   "id": "114ccdc9",
   "metadata": {},
   "source": [
    "#### 5. West End"
   ]
  },
  {
   "cell_type": "code",
   "execution_count": null,
   "id": "76f63fa4",
   "metadata": {},
   "outputs": [],
   "source": [
    "# isolating specific location\n",
    "West_End=D_P_Ldf.loc[D_P_Ldf['Location'] == \"West End\"]\n",
    "West_End = West_End.groupby('Datetime').sum()"
   ]
  },
  {
   "cell_type": "code",
   "execution_count": null,
   "id": "ca40e076",
   "metadata": {},
   "outputs": [],
   "source": [
    "new_monthly_prices_West_End = West_End.resample(\"M\").mean()"
   ]
  },
  {
   "cell_type": "code",
   "execution_count": null,
   "id": "2aa9eb48",
   "metadata": {},
   "outputs": [],
   "source": [
    "prices = []\n",
    "for i in range(len(new_monthly_prices_West_End)):\n",
    "    prices.append(new_monthly_prices_West_End.iloc[i][0])"
   ]
  },
  {
   "cell_type": "code",
   "execution_count": null,
   "id": "3ad0aefa",
   "metadata": {},
   "outputs": [],
   "source": [
    "months_with_sales = 0\n",
    "months_without_sales = 0\n",
    "j = 0\n",
    "for i in range(len(prices)):\n",
    "    if(prices[i] > 0):\n",
    "        j+=1\n",
    "months_with_sales = j\n",
    "months_without_sales = len(prices) - j"
   ]
  },
  {
   "cell_type": "code",
   "execution_count": null,
   "id": "9c90fb60",
   "metadata": {},
   "outputs": [],
   "source": [
    "data = {'Months with house sales':months_with_sales, 'Months without house sales':months_without_sales}\n",
    "courses = list(data.keys())\n",
    "values = list(data.values())\n",
    "  \n",
    "fig = plt.figure(figsize = (5, 5))\n",
    " \n",
    "# creating the bar plot\n",
    "plt.bar(courses, values, color ='maroon',\n",
    "        width = 0.8)\n",
    "plt.title(\"Bar chart of Months with sales vs. Months with no sales\")\n",
    "plt.show()\n",
    "print(\"Total months: \" + str(months_with_sales + months_without_sales))\n",
    "print(\"Months with House sales: \" + str(months_with_sales))\n",
    "print(\"Months without House sales: \" + str(months_without_sales))"
   ]
  },
  {
   "cell_type": "code",
   "execution_count": null,
   "id": "7db5f50b",
   "metadata": {},
   "outputs": [],
   "source": [
    "plt.figure(figsize=(20,6))\n",
    "plt.plot(new_monthly_prices_West_End, marker=\"o\", markersize=10)\n",
    "plt.title(\"Time Series Analysis of avergae house price in West End at a monthly frequency\")\n",
    "plt.xlabel(\"Time in months\", fontsize = 13)\n",
    "plt.ylabel(\"Number of houses sold\", fontsize = 13)\n",
    "plt.ylim(150000, 1850000)\n",
    "plt.show()"
   ]
  },
  {
   "cell_type": "markdown",
   "id": "9bd8d0e2",
   "metadata": {},
   "source": [
    "#### 6. Avoca"
   ]
  },
  {
   "cell_type": "code",
   "execution_count": null,
   "id": "22de5103",
   "metadata": {},
   "outputs": [],
   "source": [
    "# isolating specific location\n",
    "Avoca=D_P_Ldf.loc[D_P_Ldf['Location'] == \"Avoca\"]\n",
    "Avoca = Avoca.groupby('Datetime').sum()"
   ]
  },
  {
   "cell_type": "code",
   "execution_count": null,
   "id": "ee9006b0",
   "metadata": {},
   "outputs": [],
   "source": [
    "new_monthly_prices_Avoca = Avoca.resample(\"M\").mean()"
   ]
  },
  {
   "cell_type": "code",
   "execution_count": null,
   "id": "93866c7e",
   "metadata": {},
   "outputs": [],
   "source": [
    "prices = []\n",
    "for i in range(len(new_monthly_prices_Avoca)):\n",
    "    prices.append(new_monthly_prices_Avoca.iloc[i][0])"
   ]
  },
  {
   "cell_type": "code",
   "execution_count": null,
   "id": "c7674635",
   "metadata": {},
   "outputs": [],
   "source": [
    "months_with_sales = 0\n",
    "months_without_sales = 0\n",
    "j = 0\n",
    "for i in range(len(prices)):\n",
    "    if(prices[i] > 0):\n",
    "        j+=1\n",
    "months_with_sales = j\n",
    "months_without_sales = len(prices) - j"
   ]
  },
  {
   "cell_type": "code",
   "execution_count": null,
   "id": "1fdfbc5a",
   "metadata": {},
   "outputs": [],
   "source": [
    "data = {'Months with house sales':months_with_sales, 'Months without house sales':months_without_sales}\n",
    "courses = list(data.keys())\n",
    "values = list(data.values())\n",
    "  \n",
    "fig = plt.figure(figsize = (5, 5))\n",
    " \n",
    "# creating the bar plot\n",
    "plt.bar(courses, values, color ='maroon',\n",
    "        width = 0.8)\n",
    "plt.title(\"Bar chart of Months with sales vs. Months with no sales\")\n",
    "plt.show()\n",
    "print(\"Total months: \" + str(months_with_sales + months_without_sales))\n",
    "print(\"Months with House sales: \" + str(months_with_sales))\n",
    "print(\"Months without House sales: \" + str(months_without_sales))"
   ]
  },
  {
   "cell_type": "code",
   "execution_count": null,
   "id": "080acd5f",
   "metadata": {},
   "outputs": [],
   "source": [
    "plt.figure(figsize=(20,6))\n",
    "plt.plot(new_monthly_prices_Avoca, marker=\"o\", markersize=10)\n",
    "plt.title(\"Time Series Analysis of avergae house price in Avoca at a monthly frequency\")\n",
    "plt.xlabel(\"Time in months\", fontsize = 13)\n",
    "plt.ylabel(\"Number of houses sold\", fontsize = 13)\n",
    "plt.ylim(150000, 1850000)\n",
    "plt.show()"
   ]
  },
  {
   "cell_type": "markdown",
   "id": "a62dcd7d",
   "metadata": {},
   "source": [
    "#### 7. Beacon Hill"
   ]
  },
  {
   "cell_type": "code",
   "execution_count": null,
   "id": "f1af13df",
   "metadata": {},
   "outputs": [],
   "source": [
    "# isolating specific location\n",
    "Beacon_Hill=D_P_Ldf.loc[D_P_Ldf['Location'] == \"Beacon Hill\"]\n",
    "Beacon_Hill = Beacon_Hill.groupby('Datetime').sum()"
   ]
  },
  {
   "cell_type": "code",
   "execution_count": null,
   "id": "331344d1",
   "metadata": {},
   "outputs": [],
   "source": [
    "new_monthly_prices_Beacon_Hill = Beacon_Hill.resample(\"M\").mean()"
   ]
  },
  {
   "cell_type": "code",
   "execution_count": null,
   "id": "fd5e79ac",
   "metadata": {},
   "outputs": [],
   "source": [
    "prices = []\n",
    "for i in range(len(new_monthly_prices_Beacon_Hill)):\n",
    "    prices.append(new_monthly_prices_Beacon_Hill.iloc[i][0])"
   ]
  },
  {
   "cell_type": "code",
   "execution_count": null,
   "id": "ef82605f",
   "metadata": {},
   "outputs": [],
   "source": [
    "months_with_sales = 0\n",
    "months_without_sales = 0\n",
    "j = 0\n",
    "for i in range(len(prices)):\n",
    "    if(prices[i] > 0):\n",
    "        j+=1\n",
    "months_with_sales = j\n",
    "months_without_sales = len(prices) - j"
   ]
  },
  {
   "cell_type": "code",
   "execution_count": null,
   "id": "3983bb4f",
   "metadata": {},
   "outputs": [],
   "source": [
    "data = {'Months with house sales':months_with_sales, 'Months without house sales':months_without_sales}\n",
    "courses = list(data.keys())\n",
    "values = list(data.values())\n",
    "  \n",
    "fig = plt.figure(figsize = (5, 5))\n",
    " \n",
    "# creating the bar plot\n",
    "plt.bar(courses, values, color ='maroon',\n",
    "        width = 0.8)\n",
    "plt.title(\"Bar chart of Months with sales vs. Months with no sales\")\n",
    "plt.show()\n",
    "print(\"Total months: \" + str(months_with_sales + months_without_sales))\n",
    "print(\"Months with House sales: \" + str(months_with_sales))\n",
    "print(\"Months without House sales: \" + str(months_without_sales))"
   ]
  },
  {
   "cell_type": "code",
   "execution_count": null,
   "id": "5880f7e6",
   "metadata": {},
   "outputs": [],
   "source": [
    "plt.figure(figsize=(20,6))\n",
    "plt.plot(new_monthly_prices_Beacon_Hill, marker=\"o\", markersize=10)\n",
    "plt.title(\"Time Series Analysis of avergae house price in Beacon Hill at a monthly frequency\")\n",
    "plt.xlabel(\"Time in months\", fontsize = 13)\n",
    "plt.ylabel(\"Number of houses sold\", fontsize = 13)\n",
    "plt.ylim(150000, 1850000)\n",
    "plt.show()"
   ]
  },
  {
   "cell_type": "markdown",
   "id": "f005be81",
   "metadata": {},
   "source": [
    "# 3. Correlation and Regression"
   ]
  },
  {
   "cell_type": "markdown",
   "id": "cb82a91e",
   "metadata": {},
   "source": [
    "### a) Analyse how house sale prices correlate with the other numeric features in the data."
   ]
  },
  {
   "cell_type": "code",
   "execution_count": null,
   "id": "0fc0e29f",
   "metadata": {},
   "outputs": [],
   "source": [
    "House_DF.dtypes"
   ]
  },
  {
   "cell_type": "markdown",
   "id": "ec72497b",
   "metadata": {},
   "source": [
    "To look at strength of correlation, I will generate a scatter plot against price for each feature and also calculate the correlation coefficient"
   ]
  },
  {
   "cell_type": "markdown",
   "id": "3fc59569",
   "metadata": {},
   "source": [
    "###### Numeric Features:\n",
    "- Year Built\n",
    "- Size (in SQFT)\n",
    "- Story No.\n",
    "- Bedrooms No.\n",
    "- Bathrooms No.\n",
    "- Year of Sale"
   ]
  },
  {
   "cell_type": "markdown",
   "id": "f657c064",
   "metadata": {},
   "source": [
    "**1. Year Built**"
   ]
  },
  {
   "cell_type": "code",
   "execution_count": null,
   "id": "00c5e242",
   "metadata": {
    "scrolled": true
   },
   "outputs": [],
   "source": [
    "ax = House_DF.plot(kind=\"scatter\", figsize=(10, 6), color='darkblue', s=30, fontsize=13, x=\"Year Built\", y=\"Price\")\n",
    "plt.xlabel(\"Year Built\", fontsize=12)\n",
    "plt.ylabel(\"Price\", fontsize=12);\n",
    "\n",
    "x = np.array(House_DF[\"Year Built\"])\n",
    "y = np.array(House_DF[\"Price\"])\n",
    "score = np.corrcoef(x,y)[1][0]\n",
    "score = round(score, 2)\n",
    "print(\"Correlation Coefficient: \" + str(score))"
   ]
  },
  {
   "cell_type": "markdown",
   "id": "c3a5e50e",
   "metadata": {},
   "source": [
    "**2. Size**"
   ]
  },
  {
   "cell_type": "code",
   "execution_count": null,
   "id": "24907359",
   "metadata": {},
   "outputs": [],
   "source": [
    "ax = House_DF.plot(kind=\"scatter\", figsize=(10, 6), color='darkblue', s=30, fontsize=13, x=\"Size (in Sq Ft)\", y=\"Price\")\n",
    "plt.xlabel(\"Size (in Sq Ft)\", fontsize=12)\n",
    "plt.ylabel(\"Price\", fontsize=12);\n",
    "\n",
    "x = np.array(House_DF[\"Size (in Sq Ft)\"])\n",
    "y = np.array(House_DF[\"Price\"])\n",
    "score = np.corrcoef(x,y)[1][0]\n",
    "score = round(score, 2)\n",
    "print(\"Correlation Coefficient: \" + str(score))"
   ]
  },
  {
   "cell_type": "markdown",
   "id": "5ee5c432",
   "metadata": {},
   "source": [
    "**3. Story No.**"
   ]
  },
  {
   "cell_type": "code",
   "execution_count": null,
   "id": "d709a0a1",
   "metadata": {},
   "outputs": [],
   "source": [
    "ax = House_DF.plot(kind=\"scatter\", figsize=(10, 6), color='darkblue', s=30, fontsize=13, x=\"Story no.\", y=\"Price\")\n",
    "plt.xlabel(\"Story no.\", fontsize=12)\n",
    "plt.ylabel(\"Price\", fontsize=12);\n",
    "\n",
    "x = np.array(House_DF[\"Story no.\"])\n",
    "y = np.array(House_DF[\"Price\"])\n",
    "score = np.corrcoef(x,y)[1][0]\n",
    "score = round(score, 2)\n",
    "print(\"Correlation Coefficient: \" + str(score))"
   ]
  },
  {
   "cell_type": "markdown",
   "id": "f851d8c7",
   "metadata": {},
   "source": [
    "**4. Bedrooms No.**"
   ]
  },
  {
   "cell_type": "code",
   "execution_count": null,
   "id": "0dc56982",
   "metadata": {},
   "outputs": [],
   "source": [
    "ax = House_DF.plot(kind=\"scatter\", figsize=(10, 6), color='darkblue', s=30, fontsize=13, x=\"Bedrooms no.\", y=\"Price\")\n",
    "plt.xlabel(\"Bedrooms no.\", fontsize=12)\n",
    "plt.ylabel(\"Price\", fontsize=12);\n",
    "\n",
    "x = np.array(House_DF[\"Bedrooms no.\"])\n",
    "y = np.array(House_DF[\"Price\"])\n",
    "score = np.corrcoef(x,y)[1][0]\n",
    "score = round(score, 2)\n",
    "print(\"Correlation Coefficient: \" + str(score))"
   ]
  },
  {
   "cell_type": "markdown",
   "id": "5fac4541",
   "metadata": {},
   "source": [
    "**5. Bathrooms No.**"
   ]
  },
  {
   "cell_type": "code",
   "execution_count": null,
   "id": "82837f2b",
   "metadata": {},
   "outputs": [],
   "source": [
    "ax = House_DF.plot(kind=\"scatter\", figsize=(10, 6), color='darkblue', s=30, fontsize=13, x=\"Bathrooms no.\", y=\"Price\")\n",
    "plt.xlabel(\"Bathrooms no.\", fontsize=12)\n",
    "plt.ylabel(\"Price\", fontsize=12);\n",
    "\n",
    "x = np.array(House_DF[\"Bathrooms no.\"])\n",
    "y = np.array(House_DF[\"Price\"])\n",
    "score = np.corrcoef(x,y)[1][0]\n",
    "score = round(score, 2)\n",
    "print(\"Correlation Coefficient: \" + str(score))"
   ]
  },
  {
   "cell_type": "markdown",
   "id": "4c774769",
   "metadata": {},
   "source": [
    "**6. Year of Sale**"
   ]
  },
  {
   "cell_type": "code",
   "execution_count": null,
   "id": "88c89bf9",
   "metadata": {},
   "outputs": [],
   "source": [
    "ax = House_DF.plot(kind=\"scatter\", figsize=(10, 6), color='darkblue', s=30, fontsize=13, x=\"Year of Sale\", y=\"Price\")\n",
    "plt.xlabel(\"Year of Sale\", fontsize=12)\n",
    "plt.ylabel(\"Price\", fontsize=12);\n",
    "\n",
    "x = np.array(House_DF[\"Year of Sale\"])\n",
    "y = np.array(House_DF[\"Price\"])\n",
    "score = np.corrcoef(x,y)[1][0]\n",
    "score = round(score, 2)\n",
    "print(\"Correlation Coefficient: \" + str(score))"
   ]
  },
  {
   "cell_type": "markdown",
   "id": "383e6994",
   "metadata": {},
   "source": [
    "Strongest correlation scores can be seen coming from Size, Bathrooms No. and Years Built - in that order"
   ]
  },
  {
   "cell_type": "markdown",
   "id": "35554e6d",
   "metadata": {},
   "source": [
    "### b) Analyse how house sale prices relate to each of the categorical features in the data."
   ]
  },
  {
   "cell_type": "code",
   "execution_count": null,
   "id": "568da816",
   "metadata": {},
   "outputs": [],
   "source": [
    "House_DF.dtypes"
   ]
  },
  {
   "cell_type": "markdown",
   "id": "f22e2b2c",
   "metadata": {},
   "source": [
    "**Categorical Features:**\n",
    "- Date of Sale\n",
    "- Location\n",
    "- House Type"
   ]
  },
  {
   "cell_type": "markdown",
   "id": "cc98fb04",
   "metadata": {},
   "source": [
    "As these are categorical features I will not be able to calculate a correlation coefficent so will examine their relationship through plots"
   ]
  },
  {
   "cell_type": "markdown",
   "id": "8e7bfc4a",
   "metadata": {},
   "source": [
    "**1. Date of Sale**"
   ]
  },
  {
   "cell_type": "code",
   "execution_count": null,
   "id": "2d8d804e",
   "metadata": {},
   "outputs": [],
   "source": [
    "ax = House_DF.plot(kind=\"scatter\", figsize=(10, 6), color='darkblue', s=30, fontsize=13, x=\"Date of Sale\", y=\"Price\")\n",
    "plt.xlabel(\"Date of Sale\", fontsize=12)\n",
    "plt.ylabel(\"Price\", fontsize=12);"
   ]
  },
  {
   "cell_type": "markdown",
   "id": "61108e65",
   "metadata": {},
   "source": [
    "Good spread of data, no clear relationship present or obvious"
   ]
  },
  {
   "cell_type": "code",
   "execution_count": null,
   "id": "3e33e43e",
   "metadata": {},
   "outputs": [],
   "source": [
    "answer = House_DF[\"Price\"].groupby(House_DF[\"Date of Sale\"])"
   ]
  },
  {
   "cell_type": "code",
   "execution_count": null,
   "id": "4ea06ae6",
   "metadata": {},
   "outputs": [],
   "source": [
    "answer = answer.mean().sort_values()"
   ]
  },
  {
   "cell_type": "code",
   "execution_count": null,
   "id": "4ce04246",
   "metadata": {},
   "outputs": [],
   "source": [
    "plt.figure(figsize=(20,6))\n",
    "plt.plot(answer, marker=\"x\", markersize=12)\n",
    "plt.show()"
   ]
  },
  {
   "cell_type": "markdown",
   "id": "d9a56b25",
   "metadata": {},
   "source": [
    "2. Location"
   ]
  },
  {
   "cell_type": "code",
   "execution_count": null,
   "id": "894c6dcf",
   "metadata": {},
   "outputs": [],
   "source": [
    "ax = House_DF.plot(kind=\"scatter\", figsize=(10, 6), color='darkblue', s=30, fontsize=13, x=\"Location\", y=\"Price\")\n",
    "plt.xlabel(\"Location\", fontsize=12)\n",
    "plt.ylabel(\"Price\", fontsize=12);"
   ]
  },
  {
   "cell_type": "code",
   "execution_count": null,
   "id": "4d254bf0",
   "metadata": {},
   "outputs": [],
   "source": [
    "answer = House_DF[\"Price\"].groupby(House_DF[\"Location\"])"
   ]
  },
  {
   "cell_type": "code",
   "execution_count": null,
   "id": "e4c346cb",
   "metadata": {},
   "outputs": [],
   "source": [
    "answer = answer.mean().sort_values()"
   ]
  },
  {
   "cell_type": "code",
   "execution_count": null,
   "id": "eed0e2fe",
   "metadata": {},
   "outputs": [],
   "source": [
    "plt.figure(figsize=(20,6))\n",
    "plt.plot(answer, marker=\"x\", markersize=12)\n",
    "plt.show()"
   ]
  },
  {
   "cell_type": "markdown",
   "id": "7c27e830",
   "metadata": {},
   "source": [
    "3. House Type"
   ]
  },
  {
   "cell_type": "code",
   "execution_count": null,
   "id": "a464f2dd",
   "metadata": {},
   "outputs": [],
   "source": [
    "ax = House_DF.plot(kind=\"scatter\", figsize=(10, 6), color='darkblue', s=30, fontsize=13, x=\"House Type\", y=\"Price\")\n",
    "plt.xlabel(\"House Type\", fontsize=12)\n",
    "plt.ylabel(\"Price\", fontsize=12);"
   ]
  },
  {
   "cell_type": "code",
   "execution_count": null,
   "id": "55589636",
   "metadata": {},
   "outputs": [],
   "source": [
    "answer = House_DF[\"Price\"].groupby(House_DF[\"Location\"])"
   ]
  },
  {
   "cell_type": "code",
   "execution_count": null,
   "id": "24a427ea",
   "metadata": {},
   "outputs": [],
   "source": [
    "answer = answer.mean().sort_values()"
   ]
  },
  {
   "cell_type": "code",
   "execution_count": null,
   "id": "ec813fee",
   "metadata": {},
   "outputs": [],
   "source": [
    "plt.figure(figsize=(20,6))\n",
    "plt.plot(answer, marker=\"x\", markersize=12)\n",
    "plt.show()"
   ]
  },
  {
   "cell_type": "markdown",
   "id": "f889a952",
   "metadata": {},
   "source": [
    "### c) Investigate the use of simple linear regression to predict house sale prices, based on each of the individual numeric features in the data. Which numeric feature appears to be most useful when predicting prices?"
   ]
  },
  {
   "cell_type": "markdown",
   "id": "235c10b3",
   "metadata": {},
   "source": [
    "**Features:**\n",
    "- Year Built\n",
    "- Size (in SQFT)\n",
    "- Story No.\n",
    "- Bedrooms No.\n",
    "- Bathrooms No.\n",
    "- Year of Sale"
   ]
  },
  {
   "cell_type": "markdown",
   "id": "4a50a745",
   "metadata": {},
   "source": [
    "For each feature I will introduce a regression line to the previous scatter plots and caluclate the score of the regression"
   ]
  },
  {
   "cell_type": "markdown",
   "id": "3d10ea00",
   "metadata": {},
   "source": [
    "**1. Year Built**"
   ]
  },
  {
   "cell_type": "code",
   "execution_count": null,
   "id": "cd59f95b",
   "metadata": {},
   "outputs": [],
   "source": [
    "x = np.array(House_DF[\"Year Built\"])\n",
    "y = np.array(House_DF[\"Price\"])\n",
    "\n",
    "x = x.reshape(-1, 1)\n",
    "y = y.reshape(-1, 1)\n",
    "\n",
    "model = LinearRegression()\n",
    "model.fit(x,y)"
   ]
  },
  {
   "cell_type": "code",
   "execution_count": null,
   "id": "1e6e8dbb",
   "metadata": {},
   "outputs": [],
   "source": [
    "model.intercept_"
   ]
  },
  {
   "cell_type": "code",
   "execution_count": null,
   "id": "272b05a5",
   "metadata": {},
   "outputs": [],
   "source": [
    "model.coef_[0]"
   ]
  },
  {
   "cell_type": "code",
   "execution_count": null,
   "id": "50d3eae4",
   "metadata": {},
   "outputs": [],
   "source": [
    "min_val = (House_DF[\"Year Built\"].min())\n",
    "max_val = (House_DF[\"Year Built\"].max())\n",
    "print(\"Min: %d  Max: %d\" % (min_val, max_val))"
   ]
  },
  {
   "cell_type": "code",
   "execution_count": null,
   "id": "64bd5fd7",
   "metadata": {},
   "outputs": [],
   "source": [
    "values = []\n",
    "years = []\n",
    "for j in range(min_val, max_val):\n",
    "    values.append((model.intercept_ + (model.coef_[0] * j)))   \n",
    "    years.append(j)"
   ]
  },
  {
   "cell_type": "code",
   "execution_count": null,
   "id": "4f8c86c2",
   "metadata": {},
   "outputs": [],
   "source": [
    "print(House_DF[\"Price\"].mean())"
   ]
  },
  {
   "cell_type": "code",
   "execution_count": null,
   "id": "129a9448",
   "metadata": {},
   "outputs": [],
   "source": [
    "r_sq = model.score(x, y)\n",
    "print(\"Regression Score: \" + str(r_sq))\n",
    "year_Built = []\n",
    "year_Built.append(round(r_sq, 2))\n",
    "plt.figure(figsize=(13, 6))\n",
    "plt.scatter(House_DF[\"Year Built\"],House_DF[\"Price\"])\n",
    "plt.plot(years, values, color=\"red\", linewidth=3)\n",
    "plt.title(\"Scatter Plot of Year Built vs. Price with Linear Regression Line\")\n",
    "plt.xlabel(\"Year House was Built\", size=14)\n",
    "plt.ylabel(\"Price it was sold for\", size=14)\n",
    "plt.show()"
   ]
  },
  {
   "cell_type": "markdown",
   "id": "cbe17ccd",
   "metadata": {},
   "source": [
    "**2. Size**"
   ]
  },
  {
   "cell_type": "code",
   "execution_count": null,
   "id": "a95a828e",
   "metadata": {},
   "outputs": [],
   "source": [
    "x = np.array(House_DF[\"Size (in Sq Ft)\"])\n",
    "y = np.array(House_DF[\"Price\"])\n",
    "\n",
    "x = x.reshape(-1, 1)\n",
    "y = y.reshape(-1, 1)\n",
    "\n",
    "model = LinearRegression()\n",
    "model.fit(x,y)"
   ]
  },
  {
   "cell_type": "code",
   "execution_count": null,
   "id": "c2196204",
   "metadata": {},
   "outputs": [],
   "source": [
    "model.intercept_"
   ]
  },
  {
   "cell_type": "code",
   "execution_count": null,
   "id": "4b51ee16",
   "metadata": {},
   "outputs": [],
   "source": [
    "model.coef_[0]"
   ]
  },
  {
   "cell_type": "code",
   "execution_count": null,
   "id": "64c178d8",
   "metadata": {},
   "outputs": [],
   "source": [
    "min_val = (House_DF[\"Size (in Sq Ft)\"].min())\n",
    "max_val = (House_DF[\"Size (in Sq Ft)\"].max())\n",
    "print(\"Min: %d  Max: %d\" % (min_val, max_val))"
   ]
  },
  {
   "cell_type": "code",
   "execution_count": null,
   "id": "e1df87b4",
   "metadata": {},
   "outputs": [],
   "source": [
    "values = []\n",
    "years = []\n",
    "for j in range(min_val, max_val):\n",
    "    values.append((model.intercept_ + (model.coef_[0] * j)))   \n",
    "    years.append(j)"
   ]
  },
  {
   "cell_type": "code",
   "execution_count": null,
   "id": "45552d47",
   "metadata": {},
   "outputs": [],
   "source": [
    "print(House_DF[\"Size (in Sq Ft)\"].mean())"
   ]
  },
  {
   "cell_type": "code",
   "execution_count": null,
   "id": "36e7ef27",
   "metadata": {},
   "outputs": [],
   "source": [
    "r_sq = model.score(x, y)\n",
    "print(\"Regression Score: \" + str(r_sq))\n",
    "Size = []\n",
    "Size.append(round(r_sq, 2))\n",
    "plt.figure(figsize=(13, 6))\n",
    "plt.scatter(House_DF[\"Size (in Sq Ft)\"],House_DF[\"Price\"])\n",
    "plt.plot(years, values, color=\"red\", linewidth=3)\n",
    "plt.title(\"Scatter Plot of Size of house vs. Price with Linear Regression Line\")\n",
    "plt.xlabel(\"Size of House\", size=14)\n",
    "plt.ylabel(\"Price it was sold for\", size=14)\n",
    "plt.show()"
   ]
  },
  {
   "cell_type": "markdown",
   "id": "b4ef6dc6",
   "metadata": {},
   "source": [
    "**3. Story No.**"
   ]
  },
  {
   "cell_type": "code",
   "execution_count": null,
   "id": "63e6e560",
   "metadata": {},
   "outputs": [],
   "source": [
    "x = np.array(House_DF[\"Story no.\"])\n",
    "y = np.array(House_DF[\"Price\"])\n",
    "\n",
    "x = x.reshape(-1, 1)\n",
    "y = y.reshape(-1, 1)\n",
    "\n",
    "model = LinearRegression()\n",
    "model.fit(x,y)"
   ]
  },
  {
   "cell_type": "code",
   "execution_count": null,
   "id": "5e058a4d",
   "metadata": {},
   "outputs": [],
   "source": [
    "model.intercept_"
   ]
  },
  {
   "cell_type": "code",
   "execution_count": null,
   "id": "670c9d36",
   "metadata": {},
   "outputs": [],
   "source": [
    "model.coef_[0]"
   ]
  },
  {
   "cell_type": "code",
   "execution_count": null,
   "id": "dd923eca",
   "metadata": {},
   "outputs": [],
   "source": [
    "min_val = (House_DF[\"Story no.\"].min())\n",
    "max_val = (House_DF[\"Story no.\"].max())\n",
    "print(\"Min: %d  Max: %d\" % (min_val, max_val))"
   ]
  },
  {
   "cell_type": "code",
   "execution_count": null,
   "id": "cbc7de09",
   "metadata": {},
   "outputs": [],
   "source": [
    "House_DF[\"Story no.\"].value_counts()"
   ]
  },
  {
   "cell_type": "code",
   "execution_count": null,
   "id": "cfd77c79",
   "metadata": {},
   "outputs": [],
   "source": [
    "values = []\n",
    "sizes = []\n",
    "i=1\n",
    "for j in range(3):\n",
    "    values.append((model.intercept_ + (model.coef_[0] * i)))   \n",
    "    sizes.append(i)\n",
    "    i += 0.5"
   ]
  },
  {
   "cell_type": "code",
   "execution_count": null,
   "id": "91e0edb8",
   "metadata": {},
   "outputs": [],
   "source": [
    "r_sq = model.score(x, y)\n",
    "print(\"Regression Score: \" + str(r_sq))\n",
    "Story = []\n",
    "Story.append(round(r_sq, 2))\n",
    "plt.figure(figsize=(13, 6))\n",
    "plt.scatter(House_DF[\"Story no.\"], House_DF[\"Price\"])\n",
    "plt.plot(sizes, values, color=\"red\", linewidth=3)\n",
    "plt.title(\"Scatter Plot of Story No. vs. Price with Linear Regression Line\")\n",
    "plt.xlabel(\"Stories in House\", size=14)\n",
    "plt.ylabel(\"Price it was sold for\", size=14)\n",
    "plt.show()"
   ]
  },
  {
   "cell_type": "markdown",
   "id": "96fad46e",
   "metadata": {},
   "source": [
    "**4. Bedrooms No.**"
   ]
  },
  {
   "cell_type": "code",
   "execution_count": null,
   "id": "bd328922",
   "metadata": {},
   "outputs": [],
   "source": [
    "x = np.array(House_DF[\"Bedrooms no.\"])\n",
    "y = np.array(House_DF[\"Price\"])\n",
    "\n",
    "x = x.reshape(-1, 1)\n",
    "y = y.reshape(-1, 1)\n",
    "\n",
    "model = LinearRegression()\n",
    "model.fit(x,y)\n",
    "\n",
    "print(model.intercept_)\n",
    "print(model.coef_[0])\n",
    "\n",
    "print(House_DF[\"Bedrooms no.\"].min())\n",
    "print(House_DF[\"Bedrooms no.\"].max())"
   ]
  },
  {
   "cell_type": "code",
   "execution_count": null,
   "id": "090fc522",
   "metadata": {},
   "outputs": [],
   "source": [
    "values = []\n",
    "size = []\n",
    "for j in range(1, 6):\n",
    "    values.append((model.intercept_ + (model.coef_[0] * j)))   \n",
    "    size.append(j)"
   ]
  },
  {
   "cell_type": "code",
   "execution_count": null,
   "id": "86e2c8e1",
   "metadata": {},
   "outputs": [],
   "source": [
    "r_sq = model.score(x, y)\n",
    "print(\"Regression Score: \" + str(r_sq))\n",
    "Bedrooms = []\n",
    "Bedrooms.append(round(r_sq, 2))\n",
    "plt.figure(figsize=(13, 6))\n",
    "plt.scatter(House_DF[\"Bedrooms no.\"], House_DF[\"Price\"])\n",
    "plt.plot(size, values, color=\"red\", linewidth=3)\n",
    "plt.title(\"Scatter Plot of Bedrooms No. vs. Price with Linear Regression Line\")\n",
    "plt.xlabel(\"Bedrooms in House\", size=14)\n",
    "plt.ylabel(\"Price it was sold for\", size=14)\n",
    "plt.show()"
   ]
  },
  {
   "cell_type": "markdown",
   "id": "b901a4eb",
   "metadata": {},
   "source": [
    "**5. Bathrooms No.**"
   ]
  },
  {
   "cell_type": "code",
   "execution_count": null,
   "id": "6fcd1a6d",
   "metadata": {},
   "outputs": [],
   "source": [
    "x = np.array(House_DF[\"Bathrooms no.\"])\n",
    "y = np.array(House_DF[\"Price\"])\n",
    "\n",
    "x = x.reshape(-1, 1)\n",
    "y = y.reshape(-1, 1)\n",
    "\n",
    "model = LinearRegression()\n",
    "model.fit(x,y)\n",
    "\n",
    "print(model.intercept_)\n",
    "print(model.coef_[0])\n",
    "\n",
    "print(House_DF[\"Bathrooms no.\"].min())\n",
    "print(House_DF[\"Bathrooms no.\"].max())"
   ]
  },
  {
   "cell_type": "code",
   "execution_count": null,
   "id": "1fe4545a",
   "metadata": {},
   "outputs": [],
   "source": [
    "values = []\n",
    "size = []\n",
    "for j in range(1, 4):\n",
    "    values.append((model.intercept_ + (model.coef_[0] * j)))   \n",
    "    size.append(j)"
   ]
  },
  {
   "cell_type": "code",
   "execution_count": null,
   "id": "83dfe94c",
   "metadata": {},
   "outputs": [],
   "source": [
    "r_sq = model.score(x, y)\n",
    "print(\"Regression Score: \" + str(r_sq))\n",
    "Bathrooms = []\n",
    "Bathrooms.append(round(r_sq, 2))\n",
    "plt.figure(figsize=(13, 6))\n",
    "plt.scatter(House_DF[\"Bathrooms no.\"], House_DF[\"Price\"])\n",
    "plt.plot(size, values, color=\"red\", linewidth=3)\n",
    "plt.title(\"Scatter Plot of Bathrooms No. vs. Price with Linear Regression Line\")\n",
    "plt.xlabel(\"Bathrooms in House\", size=14)\n",
    "plt.ylabel(\"Price it was sold for\", size=14)\n",
    "plt.show()"
   ]
  },
  {
   "cell_type": "markdown",
   "id": "3009fc97",
   "metadata": {},
   "source": [
    "**6. Year of Sale**"
   ]
  },
  {
   "cell_type": "code",
   "execution_count": null,
   "id": "72573ac2",
   "metadata": {},
   "outputs": [],
   "source": [
    "x = np.array(House_DF[\"Year of Sale\"])\n",
    "y = np.array(House_DF[\"Price\"])\n",
    "\n",
    "x = x.reshape(-1, 1)\n",
    "y = y.reshape(-1, 1)\n",
    "\n",
    "model = LinearRegression()\n",
    "model.fit(x,y)\n",
    "\n",
    "print(model.intercept_)\n",
    "print(model.coef_[0])\n",
    "\n",
    "print(House_DF[\"Year of Sale\"].min())\n",
    "print(House_DF[\"Year of Sale\"].max())"
   ]
  },
  {
   "cell_type": "code",
   "execution_count": null,
   "id": "8f7f421f",
   "metadata": {},
   "outputs": [],
   "source": [
    "values = []\n",
    "size = []\n",
    "for j in range(2016, 2020):\n",
    "    values.append((model.intercept_ + (model.coef_[0] * j)))   \n",
    "    size.append(j)"
   ]
  },
  {
   "cell_type": "code",
   "execution_count": null,
   "id": "2e2fdc38",
   "metadata": {},
   "outputs": [],
   "source": [
    "r_sq = model.score(x, y)\n",
    "print(\"Regression Score: \" + str(r_sq))\n",
    "year_Sale = []\n",
    "year_Sale.append(round(r_sq, 2))\n",
    "plt.figure(figsize=(13, 6))\n",
    "plt.scatter(House_DF[\"Year of Sale\"], House_DF[\"Price\"])\n",
    "plt.plot(size, values, color=\"red\", linewidth=3)\n",
    "plt.title(\"Scatter Plot of Year of Sale vs. Price with Linear Regression Line\")\n",
    "plt.xlabel(\"Year of Sale\", size=14)\n",
    "plt.ylabel(\"Price it was sold for\", size=14)\n",
    "plt.show()"
   ]
  },
  {
   "cell_type": "markdown",
   "id": "347dad75",
   "metadata": {},
   "source": [
    "##### Results of Regression Testing"
   ]
  },
  {
   "cell_type": "markdown",
   "id": "04c81a9c",
   "metadata": {},
   "source": [
    "While looking at each graph and the regression line is a good way of seeing how well it performs, however I will go based off each features regression score to rate them"
   ]
  },
  {
   "cell_type": "code",
   "execution_count": null,
   "id": "56b9725c",
   "metadata": {},
   "outputs": [],
   "source": [
    "print(\"Year Built: \" + str(year_Built))\n",
    "print(\"House Size: \" + str(Size))\n",
    "print(\"Story number: \" + str(Story))\n",
    "print(\"Bedrooms number: \" + str(Bedrooms))\n",
    "print(\"Bathrooms number: \" + str(Bathrooms))\n",
    "print(\"Year of Sale: \" + str(year_Sale))"
   ]
  },
  {
   "cell_type": "markdown",
   "id": "0604a28d",
   "metadata": {},
   "source": [
    "These score allow us rank each feature in terms of how well it performed with regards to our regression testing:\n",
    "1. House Size\n",
    "2. Bathrooms number\n",
    "3. Year Built\n",
    "4. Story number\n",
    "5. Bedrooms number\n",
    "6. Year of Sale"
   ]
  },
  {
   "cell_type": "markdown",
   "id": "cd9c494f",
   "metadata": {},
   "source": [
    "# 4. Classification"
   ]
  },
  {
   "cell_type": "markdown",
   "id": "33e1a2d1",
   "metadata": {},
   "source": [
    "#### a) The price of a property is often said to be linked closely to its location, while different areas will have different types of housing stock. Investigate whether it is possible to classify the location of a house, based on the other descriptive features in the house sale dataset. You can use any classification algorithm of your choice. You should evaluate the performance of the classifier using an appropriate strategy."
   ]
  },
  {
   "cell_type": "markdown",
   "id": "a3584aa4",
   "metadata": {},
   "source": [
    "In this section I will attempt to classify the Location of houses based on other descriptive features in the data. I will do this using a K Nearest Neighbour Classifier. For each feature, I will analyse their performance by using a hold back strategy, generating a confusion matrix and finally using k-fold cross validation. I will also store respective scores in a list and analyse them at the end"
   ]
  },
  {
   "cell_type": "markdown",
   "id": "02f098c0",
   "metadata": {},
   "source": [
    "To start, it is a good idea to have a look at the value counts for our Location parameter. I will also look at the number of data points to help choose our value of K"
   ]
  },
  {
   "cell_type": "code",
   "execution_count": null,
   "id": "4c65b8ea",
   "metadata": {},
   "outputs": [],
   "source": [
    "House_DF[\"Location\"].value_counts()"
   ]
  },
  {
   "cell_type": "code",
   "execution_count": null,
   "id": "bd8517dc",
   "metadata": {},
   "outputs": [],
   "source": [
    "len(House_DF)"
   ]
  },
  {
   "cell_type": "markdown",
   "id": "44a29606",
   "metadata": {},
   "source": [
    "We have 7 unique house locations with values ranging from 82 - 238. The number of data points is 945"
   ]
  },
  {
   "cell_type": "markdown",
   "id": "318244d0",
   "metadata": {},
   "source": [
    "In general K should be <= sqrt(n) where n is the number of observations in our dataset (945)"
   ]
  },
  {
   "cell_type": "markdown",
   "id": "2a130a2e",
   "metadata": {},
   "source": [
    "I will decide on a value of K when I begin examining the first descriptive feature"
   ]
  },
  {
   "cell_type": "markdown",
   "id": "06e733c1",
   "metadata": {},
   "source": [
    "#### Features to be used in classification:\n",
    "- Price\n",
    "- Year Built\n",
    "- Size\n",
    "- Story No. \n",
    "- Bedrooms No.\n",
    "- Bathrooms No."
   ]
  },
  {
   "cell_type": "markdown",
   "id": "e53f9fc9",
   "metadata": {},
   "source": [
    "Let us start by isolating our target attribute which is Location"
   ]
  },
  {
   "cell_type": "code",
   "execution_count": null,
   "id": "87d9a7d7",
   "metadata": {},
   "outputs": [],
   "source": [
    "target = House_DF.iloc[:,2]\n",
    "target"
   ]
  },
  {
   "cell_type": "markdown",
   "id": "254c4423",
   "metadata": {},
   "source": [
    "##### 1. Price"
   ]
  },
  {
   "cell_type": "code",
   "execution_count": null,
   "id": "7270131a",
   "metadata": {},
   "outputs": [],
   "source": [
    "data = House_DF.iloc[:,1:2]\n",
    "data"
   ]
  },
  {
   "cell_type": "code",
   "execution_count": null,
   "id": "3c13e2b8",
   "metadata": {},
   "outputs": [],
   "source": [
    "# splitting price data into training and test data with an 80/20 split\n",
    "# also including list to hold scores of hold back strategy and k-fold cross validation\n",
    "price = []\n",
    "train_data, test_data, train_target, test_target = train_test_split(data, target, test_size=0.2)"
   ]
  },
  {
   "cell_type": "code",
   "execution_count": null,
   "id": "0ece1be9",
   "metadata": {},
   "outputs": [],
   "source": [
    "print(\"Training set has %d examples\" % train_data.shape[0])\n",
    "print(\"Test set has %d examples\" % test_data.shape[0])"
   ]
  },
  {
   "cell_type": "code",
   "execution_count": null,
   "id": "00270a70",
   "metadata": {},
   "outputs": [],
   "source": [
    "model = KNeighborsClassifier(n_neighbors=30)\n",
    "model.fit(train_data, train_target)"
   ]
  },
  {
   "cell_type": "code",
   "execution_count": null,
   "id": "57f042c1",
   "metadata": {},
   "outputs": [],
   "source": [
    "# looking at values for k from 1 - 45\n",
    "for k in range(1, 45):\n",
    "    # train a classifier with this parameter value\n",
    "    model = KNeighborsClassifier(n_neighbors=k)\n",
    "    m = model.fit(train_data, train_target)\n",
    "    # make predictions\n",
    "    predicted = model.predict(test_data)\n",
    "    # evaluate the predictions\n",
    "    acc = accuracy_score(test_target, predicted)\n",
    "    print(\"K=%02d neighbours: Accuracy=%.3f\" % (k, acc))"
   ]
  },
  {
   "cell_type": "markdown",
   "id": "f9d9d153",
   "metadata": {},
   "source": [
    "Values seem quite similar in range 15 - 40. Will continue by using K = 30 for every feature"
   ]
  },
  {
   "cell_type": "code",
   "execution_count": null,
   "id": "e2d33e1f",
   "metadata": {},
   "outputs": [],
   "source": [
    "model = KNeighborsClassifier(n_neighbors=30)\n",
    "model.fit(train_data, train_target)"
   ]
  },
  {
   "cell_type": "code",
   "execution_count": null,
   "id": "afa0d31c",
   "metadata": {},
   "outputs": [],
   "source": [
    "predicted = model.predict(test_data)\n",
    "print(\"Class counts:\\n%s\" % pd.Series(predicted).value_counts())"
   ]
  },
  {
   "cell_type": "code",
   "execution_count": null,
   "id": "02575123",
   "metadata": {},
   "outputs": [],
   "source": [
    "accuracy = accuracy_score(test_target, predicted)\n",
    "print(\"Accuracy=%.3f\" % accuracy)\n",
    "price.append(round(accuracy, 3))"
   ]
  },
  {
   "cell_type": "markdown",
   "id": "7c957209",
   "metadata": {},
   "source": [
    "**Note:** For all confusion matrices, the correct values will be on the diagnol from top left to bottom right. Any other value is incorrect and was not labelled correctly"
   ]
  },
  {
   "cell_type": "code",
   "execution_count": null,
   "id": "e6a2b8fc",
   "metadata": {},
   "outputs": [],
   "source": [
    "cm = confusion_matrix(test_target, predicted)\n",
    "disp = ConfusionMatrixDisplay(confusion_matrix=cm, display_labels=model.classes_)\n",
    "fig, ax = plt.subplots(figsize=(10,10))\n",
    "disp.plot(ax=ax, cmap=plt.cm.Blues)\n",
    "plt.show()"
   ]
  },
  {
   "cell_type": "code",
   "execution_count": null,
   "id": "7048885a",
   "metadata": {},
   "outputs": [],
   "source": [
    "acc_scores = cross_val_score(model, data, target, cv=5, scoring=\"accuracy\")\n",
    "print(acc_scores)"
   ]
  },
  {
   "cell_type": "code",
   "execution_count": null,
   "id": "3cf77c18",
   "metadata": {},
   "outputs": [],
   "source": [
    "print(\"Final accuracy score: %.2f\" % acc_scores.mean())\n",
    "price.append(round(acc_scores.mean(), 3))"
   ]
  },
  {
   "cell_type": "code",
   "execution_count": null,
   "id": "8255315c",
   "metadata": {},
   "outputs": [],
   "source": [
    "price"
   ]
  },
  {
   "cell_type": "markdown",
   "id": "33513dd4",
   "metadata": {},
   "source": [
    "##### 2. Year Built"
   ]
  },
  {
   "cell_type": "code",
   "execution_count": null,
   "id": "72f5d828",
   "metadata": {},
   "outputs": [],
   "source": [
    "data = House_DF.iloc[:,3:4]\n",
    "data"
   ]
  },
  {
   "cell_type": "code",
   "execution_count": null,
   "id": "d445d54b",
   "metadata": {},
   "outputs": [],
   "source": [
    "# splitting year built data into training and test data with an 80/20 split\n",
    "# also including list to hold scores of hold back strategy and k-fold cross validation\n",
    "year_built = []\n",
    "train_data, test_data, train_target, test_target = train_test_split(data, target, test_size=0.2)"
   ]
  },
  {
   "cell_type": "code",
   "execution_count": null,
   "id": "5da5d5cc",
   "metadata": {},
   "outputs": [],
   "source": [
    "model = KNeighborsClassifier(n_neighbors=30)\n",
    "model.fit(train_data, train_target)"
   ]
  },
  {
   "cell_type": "code",
   "execution_count": null,
   "id": "dd394ee9",
   "metadata": {},
   "outputs": [],
   "source": [
    "predicted = model.predict(test_data)\n",
    "print(\"Class counts:\\n%s\" % pd.Series(predicted).value_counts())"
   ]
  },
  {
   "cell_type": "code",
   "execution_count": null,
   "id": "365de6ea",
   "metadata": {},
   "outputs": [],
   "source": [
    "accuracy = accuracy_score(test_target, predicted)\n",
    "print(\"Accuracy=%.3f\" % accuracy)\n",
    "year_built.append(round(accuracy, 3))"
   ]
  },
  {
   "cell_type": "code",
   "execution_count": null,
   "id": "f2a80e5e",
   "metadata": {},
   "outputs": [],
   "source": [
    "cm = confusion_matrix(test_target, predicted)\n",
    "disp = ConfusionMatrixDisplay(confusion_matrix=cm, display_labels=model.classes_)\n",
    "fig, ax = plt.subplots(figsize=(10,10))\n",
    "disp.plot(ax=ax, cmap=plt.cm.Blues)\n",
    "plt.show()"
   ]
  },
  {
   "cell_type": "code",
   "execution_count": null,
   "id": "a6fe812b",
   "metadata": {},
   "outputs": [],
   "source": [
    "acc_scores = cross_val_score(model, data, target, cv=5, scoring=\"accuracy\")\n",
    "print(acc_scores)"
   ]
  },
  {
   "cell_type": "code",
   "execution_count": null,
   "id": "c4d2e7c6",
   "metadata": {},
   "outputs": [],
   "source": [
    "print(\"Final accuracy score: %.2f\" % acc_scores.mean())\n",
    "year_built.append(round(acc_scores.mean(), 3))"
   ]
  },
  {
   "cell_type": "markdown",
   "id": "1d97ca52",
   "metadata": {},
   "source": [
    "##### 3. Size"
   ]
  },
  {
   "cell_type": "code",
   "execution_count": null,
   "id": "6016497e",
   "metadata": {},
   "outputs": [],
   "source": [
    "data = House_DF.iloc[:,4:5]\n",
    "data"
   ]
  },
  {
   "cell_type": "code",
   "execution_count": null,
   "id": "68c86748",
   "metadata": {},
   "outputs": [],
   "source": [
    "# splitting size data into training and test data with an 80/20 split\n",
    "# also including list to hold scores of hold back strategy and k-fold cross validation\n",
    "size = []\n",
    "train_data, test_data, train_target, test_target = train_test_split(data, target, test_size=0.2)"
   ]
  },
  {
   "cell_type": "code",
   "execution_count": null,
   "id": "99781bc0",
   "metadata": {},
   "outputs": [],
   "source": [
    "model = KNeighborsClassifier(n_neighbors=30)\n",
    "model.fit(train_data, train_target)"
   ]
  },
  {
   "cell_type": "code",
   "execution_count": null,
   "id": "323d951c",
   "metadata": {},
   "outputs": [],
   "source": [
    "predicted = model.predict(test_data)\n",
    "print(\"Class counts:\\n%s\" % pd.Series(predicted).value_counts())"
   ]
  },
  {
   "cell_type": "code",
   "execution_count": null,
   "id": "85eb03f9",
   "metadata": {},
   "outputs": [],
   "source": [
    "accuracy = accuracy_score(test_target, predicted)\n",
    "print(\"Accuracy=%.3f\" % accuracy)\n",
    "size.append(round(accuracy, 3))"
   ]
  },
  {
   "cell_type": "code",
   "execution_count": null,
   "id": "e075f016",
   "metadata": {},
   "outputs": [],
   "source": [
    "cm = confusion_matrix(test_target, predicted)\n",
    "disp = ConfusionMatrixDisplay(confusion_matrix=cm, display_labels=model.classes_)\n",
    "fig, ax = plt.subplots(figsize=(10,10))\n",
    "disp.plot(ax=ax, cmap=plt.cm.Blues)\n",
    "plt.show()"
   ]
  },
  {
   "cell_type": "code",
   "execution_count": null,
   "id": "b8196cce",
   "metadata": {},
   "outputs": [],
   "source": [
    "acc_scores = cross_val_score(model, data, target, cv=5, scoring=\"accuracy\")\n",
    "print(acc_scores)"
   ]
  },
  {
   "cell_type": "code",
   "execution_count": null,
   "id": "bd0754a5",
   "metadata": {},
   "outputs": [],
   "source": [
    "print(\"Final accuracy score: %.2f\" % acc_scores.mean())\n",
    "size.append(round(acc_scores.mean(), 3))"
   ]
  },
  {
   "cell_type": "markdown",
   "id": "c729d040",
   "metadata": {},
   "source": [
    "##### 4. Story No."
   ]
  },
  {
   "cell_type": "code",
   "execution_count": null,
   "id": "4b89e23a",
   "metadata": {},
   "outputs": [],
   "source": [
    "data = House_DF.iloc[:,6:7]\n",
    "data"
   ]
  },
  {
   "cell_type": "code",
   "execution_count": null,
   "id": "2b3a9347",
   "metadata": {},
   "outputs": [],
   "source": [
    "# splitting story no. data into training and test data with an 80/20 split\n",
    "# also including list to hold scores of hold back strategy and k-fold cross validation\n",
    "story = []\n",
    "train_data, test_data, train_target, test_target = train_test_split(data, target, test_size=0.2)"
   ]
  },
  {
   "cell_type": "code",
   "execution_count": null,
   "id": "6bc61a07",
   "metadata": {},
   "outputs": [],
   "source": [
    "model = KNeighborsClassifier(n_neighbors=30)\n",
    "model.fit(train_data, train_target)"
   ]
  },
  {
   "cell_type": "code",
   "execution_count": null,
   "id": "9fe055ea",
   "metadata": {},
   "outputs": [],
   "source": [
    "predicted = model.predict(test_data)\n",
    "print(\"Class counts:\\n%s\" % pd.Series(predicted).value_counts())"
   ]
  },
  {
   "cell_type": "code",
   "execution_count": null,
   "id": "9d070550",
   "metadata": {},
   "outputs": [],
   "source": [
    "accuracy = accuracy_score(test_target, predicted)\n",
    "print(\"Accuracy=%.3f\" % accuracy)\n",
    "story.append(round(accuracy, 3))"
   ]
  },
  {
   "cell_type": "code",
   "execution_count": null,
   "id": "b96f9aa3",
   "metadata": {},
   "outputs": [],
   "source": [
    "cm = confusion_matrix(test_target, predicted)\n",
    "disp = ConfusionMatrixDisplay(confusion_matrix=cm, display_labels=model.classes_)\n",
    "fig, ax = plt.subplots(figsize=(10,10))\n",
    "disp.plot(ax=ax, cmap=plt.cm.Blues)\n",
    "plt.show()"
   ]
  },
  {
   "cell_type": "code",
   "execution_count": null,
   "id": "8e3ee967",
   "metadata": {},
   "outputs": [],
   "source": [
    "acc_scores = cross_val_score(model, data, target, cv=5, scoring=\"accuracy\")\n",
    "print(acc_scores)"
   ]
  },
  {
   "cell_type": "code",
   "execution_count": null,
   "id": "2742f8f8",
   "metadata": {},
   "outputs": [],
   "source": [
    "print(\"Final accuracy score: %.2f\" % acc_scores.mean())\n",
    "story.append(round(acc_scores.mean(), 3))"
   ]
  },
  {
   "cell_type": "markdown",
   "id": "5c9df0f6",
   "metadata": {},
   "source": [
    "##### 5. Bedrooms No."
   ]
  },
  {
   "cell_type": "code",
   "execution_count": null,
   "id": "ea5e118d",
   "metadata": {},
   "outputs": [],
   "source": [
    "data = House_DF.iloc[:,7:8]\n",
    "data"
   ]
  },
  {
   "cell_type": "code",
   "execution_count": null,
   "id": "7c91fc64",
   "metadata": {},
   "outputs": [],
   "source": [
    "# splitting bedrooms no. data into training and test data with an 80/20 split\n",
    "# also including list to hold scores of hold back strategy and k-fold cross validation\n",
    "bedrooms = []\n",
    "train_data, test_data, train_target, test_target = train_test_split(data, target, test_size=0.2)"
   ]
  },
  {
   "cell_type": "code",
   "execution_count": null,
   "id": "f925c740",
   "metadata": {},
   "outputs": [],
   "source": [
    "model = KNeighborsClassifier(n_neighbors=30)\n",
    "model.fit(train_data, train_target)"
   ]
  },
  {
   "cell_type": "code",
   "execution_count": null,
   "id": "93f98423",
   "metadata": {},
   "outputs": [],
   "source": [
    "predicted = model.predict(test_data)\n",
    "print(\"Class counts:\\n%s\" % pd.Series(predicted).value_counts())"
   ]
  },
  {
   "cell_type": "code",
   "execution_count": null,
   "id": "eef3e361",
   "metadata": {},
   "outputs": [],
   "source": [
    "accuracy = accuracy_score(test_target, predicted)\n",
    "print(\"Accuracy=%.3f\" % accuracy)\n",
    "bedrooms.append(round(accuracy, 3))"
   ]
  },
  {
   "cell_type": "code",
   "execution_count": null,
   "id": "4a348b08",
   "metadata": {},
   "outputs": [],
   "source": [
    "cm = confusion_matrix(test_target, predicted)\n",
    "disp = ConfusionMatrixDisplay(confusion_matrix=cm, display_labels=model.classes_)\n",
    "fig, ax = plt.subplots(figsize=(10,10))\n",
    "disp.plot(ax=ax, cmap=plt.cm.Blues)\n",
    "plt.show()"
   ]
  },
  {
   "cell_type": "code",
   "execution_count": null,
   "id": "849d3166",
   "metadata": {},
   "outputs": [],
   "source": [
    "acc_scores = cross_val_score(model, data, target, cv=5, scoring=\"accuracy\")\n",
    "print(acc_scores)"
   ]
  },
  {
   "cell_type": "code",
   "execution_count": null,
   "id": "2513b516",
   "metadata": {},
   "outputs": [],
   "source": [
    "print(\"Final accuracy score: %.2f\" % acc_scores.mean())\n",
    "bedrooms.append(round(acc_scores.mean(), 3))"
   ]
  },
  {
   "cell_type": "markdown",
   "id": "1c5f32bd",
   "metadata": {},
   "source": [
    "##### 6. Bathrooms No."
   ]
  },
  {
   "cell_type": "code",
   "execution_count": null,
   "id": "b0aa03af",
   "metadata": {},
   "outputs": [],
   "source": [
    "data = House_DF.iloc[:,8:9]\n",
    "data"
   ]
  },
  {
   "cell_type": "code",
   "execution_count": null,
   "id": "f920174b",
   "metadata": {},
   "outputs": [],
   "source": [
    "# splitting bathrooms data into training and test data with an 80/20 split\n",
    "# also including list to hold scores of hold back strategy and k-fold cross validation\n",
    "bathrooms = []\n",
    "train_data, test_data, train_target, test_target = train_test_split(data, target, test_size=0.2)"
   ]
  },
  {
   "cell_type": "code",
   "execution_count": null,
   "id": "e00466c0",
   "metadata": {},
   "outputs": [],
   "source": [
    "model = KNeighborsClassifier(n_neighbors=30)\n",
    "model.fit(train_data, train_target)"
   ]
  },
  {
   "cell_type": "code",
   "execution_count": null,
   "id": "b7089754",
   "metadata": {},
   "outputs": [],
   "source": [
    "predicted = model.predict(test_data)\n",
    "print(\"Class counts:\\n%s\" % pd.Series(predicted).value_counts())"
   ]
  },
  {
   "cell_type": "code",
   "execution_count": null,
   "id": "02a230fc",
   "metadata": {},
   "outputs": [],
   "source": [
    "accuracy = accuracy_score(test_target, predicted)\n",
    "print(\"Accuracy=%.3f\" % accuracy)\n",
    "bathrooms.append(round(accuracy, 3))"
   ]
  },
  {
   "cell_type": "code",
   "execution_count": null,
   "id": "aa2fb779",
   "metadata": {},
   "outputs": [],
   "source": [
    "cm = confusion_matrix(test_target, predicted)\n",
    "disp = ConfusionMatrixDisplay(confusion_matrix=cm, display_labels=model.classes_)\n",
    "fig, ax = plt.subplots(figsize=(10,10))\n",
    "disp.plot(ax=ax, cmap=plt.cm.Blues)\n",
    "plt.show()"
   ]
  },
  {
   "cell_type": "code",
   "execution_count": null,
   "id": "2438adb1",
   "metadata": {},
   "outputs": [],
   "source": [
    "acc_scores = cross_val_score(model, data, target, cv=5, scoring=\"accuracy\")\n",
    "print(acc_scores)"
   ]
  },
  {
   "cell_type": "code",
   "execution_count": null,
   "id": "eb174159",
   "metadata": {},
   "outputs": [],
   "source": [
    "print(\"Final accuracy score: %.2f\" % acc_scores.mean())\n",
    "bathrooms.append(round(acc_scores.mean(), 3))"
   ]
  },
  {
   "cell_type": "markdown",
   "id": "3fbd5a5b",
   "metadata": {},
   "source": [
    "##### Final Results"
   ]
  },
  {
   "cell_type": "markdown",
   "id": "3eda8b52",
   "metadata": {},
   "source": [
    "I will now print out the score for every descriptive feature received for  hold back strategy and k-fold cross validation."
   ]
  },
  {
   "cell_type": "code",
   "execution_count": null,
   "id": "27ef10c1",
   "metadata": {},
   "outputs": [],
   "source": [
    "print(\"Price - hold back score: %.3f    k-fold score: %.3f\" % (price[0], price[1]))\n",
    "print(\"Year Built - hold back score: %.3f    k-fold score: %.3f\" % (year_built[0], year_built[1]))\n",
    "print(\"Size - hold back score: %.3f    k-fold score: %.3f\" % (size[0], size[1]))\n",
    "print(\"Story - hold back score: %.3f    k-fold score: %.3f\" % (story[0], story[1]))\n",
    "print(\"Bedrooms - hold back score: %.3f    k-fold score: %.3f\" % (bedrooms[0], bedrooms[1]))\n",
    "print(\"Bathrooms - hold back score: %.3f    k-fold score: %.3f\\n\" % (bathrooms[0], bathrooms[1]))"
   ]
  },
  {
   "cell_type": "markdown",
   "id": "461023f5",
   "metadata": {},
   "source": [
    "Different Results will occur on different runs of the algorithm but for my run I received the following scores:\n",
    "- Price: [0.439, 0.438]\n",
    "- Year Built: [0.519, 0.546]\n",
    "- Size: [0.259, 0.308]\n",
    "- Story: [0.291, 0.313]\n",
    "- Bedrooms: [0.228, 0.251]\n",
    "- Bathrooms: [0.143, 0.298]"
   ]
  },
  {
   "cell_type": "markdown",
   "id": "b07864cd",
   "metadata": {},
   "source": [
    "I will now calculate the combined score for both attributes"
   ]
  },
  {
   "cell_type": "code",
   "execution_count": null,
   "id": "7e19993d",
   "metadata": {},
   "outputs": [],
   "source": [
    "print(\"Price: %.2f\" % sum(price))\n",
    "print(\"Year Built: %.2f\" % sum(year_built))\n",
    "print(\"Size: %.2f\" % sum(size))\n",
    "print(\"Story: %.2f\" % sum(story))\n",
    "print(\"Bedrooms: %.2f\" % sum(bedrooms))\n",
    "print(\"Bathrooms: %.2f\" % sum(bathrooms))"
   ]
  },
  {
   "cell_type": "markdown",
   "id": "bc22c120",
   "metadata": {},
   "source": [
    "Different Results will occur on different runs of the algorithm but for my run I received the following scores:\n",
    "- Price: 0.88\n",
    "- Year Built: 1.06\n",
    "- Size: 0.57\n",
    "- Story: 0.60\n",
    "- Bedrooms: 0.48\n",
    "- Bathrooms: 0.44"
   ]
  },
  {
   "cell_type": "markdown",
   "id": "edbb67d1",
   "metadata": {},
   "source": [
    "###### This gives an overall ranking of best features for classification in the following order:\n",
    "1. Year Built\n",
    "2. Price\n",
    "3. Story\n",
    "4. Size\n",
    "5. Bedrooms\n",
    "6. Bathrooms"
   ]
  },
  {
   "cell_type": "markdown",
   "id": "63dc3291",
   "metadata": {},
   "source": [
    "#### b) Experiment with applying the same classifier in combination with different subsets of descriptive features. Which feature(s) appear to be be most useful for classification?"
   ]
  },
  {
   "cell_type": "markdown",
   "id": "22761f8c",
   "metadata": {},
   "source": [
    "As the number of features is six, it is impractical to test every possible combination of feautures due to the large possible number of them"
   ]
  },
  {
   "cell_type": "markdown",
   "id": "0821b54a",
   "metadata": {},
   "source": [
    "Instead, I will choose combinations of features with the highest classification scores and also those which seem interesting"
   ]
  },
  {
   "cell_type": "markdown",
   "id": "c8115354",
   "metadata": {},
   "source": [
    "The combinations of features to be tested are:\n",
    "- Year Built and Price\n",
    "- Year Built and Story\n",
    "- Price and Story\n",
    "- Price, Bedrooms and Bathrooms\n",
    "- Year Built, Price and Story\n",
    "- Size, Bedrooms, Bathrooms\n",
    "- Year Built, Price, Story and Size"
   ]
  },
  {
   "cell_type": "markdown",
   "id": "bdab0878",
   "metadata": {},
   "source": [
    "At the end I will analyse the selected features using the same methods and scoring as in part a)"
   ]
  },
  {
   "cell_type": "markdown",
   "id": "55748f4a",
   "metadata": {},
   "source": [
    "###### 1. Year Built and Price"
   ]
  },
  {
   "cell_type": "code",
   "execution_count": null,
   "id": "5e7893f9",
   "metadata": {},
   "outputs": [],
   "source": [
    "data = House_DF[[\"Year Built\", \"Price\"]]\n",
    "data"
   ]
  },
  {
   "cell_type": "code",
   "execution_count": null,
   "id": "7b0cd70a",
   "metadata": {},
   "outputs": [],
   "source": [
    "# normalising data values\n",
    "normalizer = StandardScaler()\n",
    "data_scaled = normalizer.fit_transform(data.values)\n",
    "data_scaled"
   ]
  },
  {
   "cell_type": "code",
   "execution_count": null,
   "id": "e8d5db69",
   "metadata": {},
   "outputs": [],
   "source": [
    "# splitting data into training and test data with an 80/20 split\n",
    "# also including list to hold scores of hold back strategy and k-fold cross validation\n",
    "YB_P = []\n",
    "train_data, test_data, train_target, test_target = train_test_split(data_scaled, target, test_size=0.2)"
   ]
  },
  {
   "cell_type": "code",
   "execution_count": null,
   "id": "54dc083b",
   "metadata": {},
   "outputs": [],
   "source": [
    "model = KNeighborsClassifier(n_neighbors=30)\n",
    "model.fit(train_data, train_target)"
   ]
  },
  {
   "cell_type": "code",
   "execution_count": null,
   "id": "fa520f8f",
   "metadata": {},
   "outputs": [],
   "source": [
    "predicted = model.predict(test_data)\n",
    "print(\"Class counts:\\n%s\" % pd.Series(predicted).value_counts())"
   ]
  },
  {
   "cell_type": "code",
   "execution_count": null,
   "id": "681e3230",
   "metadata": {},
   "outputs": [],
   "source": [
    "accuracy = accuracy_score(test_target, predicted)\n",
    "print(\"Accuracy=%.3f\" % accuracy)\n",
    "YB_P.append(round(accuracy, 3))"
   ]
  },
  {
   "cell_type": "code",
   "execution_count": null,
   "id": "b64affcb",
   "metadata": {},
   "outputs": [],
   "source": [
    "cm = confusion_matrix(test_target, predicted)\n",
    "disp = ConfusionMatrixDisplay(confusion_matrix=cm, display_labels=model.classes_)\n",
    "fig, ax = plt.subplots(figsize=(10,10))\n",
    "disp.plot(ax=ax, cmap=plt.cm.Blues)\n",
    "plt.show()"
   ]
  },
  {
   "cell_type": "code",
   "execution_count": null,
   "id": "08995f36",
   "metadata": {},
   "outputs": [],
   "source": [
    "acc_scores = cross_val_score(model, data_scaled, target, cv=5, scoring=\"accuracy\")\n",
    "print(acc_scores)"
   ]
  },
  {
   "cell_type": "code",
   "execution_count": null,
   "id": "34e5ba88",
   "metadata": {},
   "outputs": [],
   "source": [
    "print(\"Final accuracy score: %.2f\" % acc_scores.mean())\n",
    "YB_P.append(round(acc_scores.mean(), 3))"
   ]
  },
  {
   "cell_type": "markdown",
   "id": "f5068505",
   "metadata": {},
   "source": [
    "###### 2. Year Built and Story"
   ]
  },
  {
   "cell_type": "code",
   "execution_count": null,
   "id": "d73c3fbe",
   "metadata": {},
   "outputs": [],
   "source": [
    "data = House_DF[[\"Year Built\", \"Story no.\"]]\n",
    "data"
   ]
  },
  {
   "cell_type": "code",
   "execution_count": null,
   "id": "73523789",
   "metadata": {},
   "outputs": [],
   "source": [
    "# normalising data values\n",
    "normalizer = StandardScaler()\n",
    "data_scaled = normalizer.fit_transform(data.values)\n",
    "data_scaled"
   ]
  },
  {
   "cell_type": "code",
   "execution_count": null,
   "id": "c9161f9f",
   "metadata": {},
   "outputs": [],
   "source": [
    "# splitting data into training and test data with an 80/20 split\n",
    "# also including list to hold scores of hold back strategy and k-fold cross validation\n",
    "YB_S = []\n",
    "train_data, test_data, train_target, test_target = train_test_split(data_scaled, target, test_size=0.2)"
   ]
  },
  {
   "cell_type": "code",
   "execution_count": null,
   "id": "939ba78f",
   "metadata": {},
   "outputs": [],
   "source": [
    "model = KNeighborsClassifier(n_neighbors=30)\n",
    "model.fit(train_data, train_target)"
   ]
  },
  {
   "cell_type": "code",
   "execution_count": null,
   "id": "2de18993",
   "metadata": {},
   "outputs": [],
   "source": [
    "predicted = model.predict(test_data)\n",
    "print(\"Class counts:\\n%s\" % pd.Series(predicted).value_counts())"
   ]
  },
  {
   "cell_type": "code",
   "execution_count": null,
   "id": "32db59af",
   "metadata": {},
   "outputs": [],
   "source": [
    "accuracy = accuracy_score(test_target, predicted)\n",
    "print(\"Accuracy=%.3f\" % accuracy)\n",
    "YB_S.append(round(accuracy, 3))"
   ]
  },
  {
   "cell_type": "code",
   "execution_count": null,
   "id": "5529af9f",
   "metadata": {},
   "outputs": [],
   "source": [
    "cm = confusion_matrix(test_target, predicted)\n",
    "disp = ConfusionMatrixDisplay(confusion_matrix=cm, display_labels=model.classes_)\n",
    "fig, ax = plt.subplots(figsize=(10,10))\n",
    "disp.plot(ax=ax, cmap=plt.cm.Blues)\n",
    "plt.show()"
   ]
  },
  {
   "cell_type": "code",
   "execution_count": null,
   "id": "ad38b28d",
   "metadata": {},
   "outputs": [],
   "source": [
    "acc_scores = cross_val_score(model, data_scaled, target, cv=5, scoring=\"accuracy\")\n",
    "print(acc_scores)"
   ]
  },
  {
   "cell_type": "code",
   "execution_count": null,
   "id": "07f85d1b",
   "metadata": {},
   "outputs": [],
   "source": [
    "print(\"Final accuracy score: %.2f\" % acc_scores.mean())\n",
    "YB_S.append(round(acc_scores.mean(), 3))"
   ]
  },
  {
   "cell_type": "markdown",
   "id": "cb534b5d",
   "metadata": {},
   "source": [
    "###### 3. Price and Story"
   ]
  },
  {
   "cell_type": "code",
   "execution_count": null,
   "id": "e0a4568a",
   "metadata": {},
   "outputs": [],
   "source": [
    "data = House_DF[[\"Price\", \"Story no.\"]]\n",
    "data"
   ]
  },
  {
   "cell_type": "code",
   "execution_count": null,
   "id": "90c90358",
   "metadata": {},
   "outputs": [],
   "source": [
    "# normalising data values\n",
    "normalizer = StandardScaler()\n",
    "data_scaled = normalizer.fit_transform(data.values)\n",
    "data_scaled"
   ]
  },
  {
   "cell_type": "code",
   "execution_count": null,
   "id": "0ab238d2",
   "metadata": {},
   "outputs": [],
   "source": [
    "# splitting data into training and test data with an 80/20 split\n",
    "# also including list to hold scores of hold back strategy and k-fold cross validation\n",
    "P_S = []\n",
    "train_data, test_data, train_target, test_target = train_test_split(data_scaled, target, test_size=0.2)"
   ]
  },
  {
   "cell_type": "code",
   "execution_count": null,
   "id": "18fcadc6",
   "metadata": {},
   "outputs": [],
   "source": [
    "model = KNeighborsClassifier(n_neighbors=30)\n",
    "model.fit(train_data, train_target)"
   ]
  },
  {
   "cell_type": "code",
   "execution_count": null,
   "id": "fd0c1a2b",
   "metadata": {},
   "outputs": [],
   "source": [
    "predicted = model.predict(test_data)\n",
    "print(\"Class counts:\\n%s\" % pd.Series(predicted).value_counts())"
   ]
  },
  {
   "cell_type": "code",
   "execution_count": null,
   "id": "dbea1ab4",
   "metadata": {},
   "outputs": [],
   "source": [
    "accuracy = accuracy_score(test_target, predicted)\n",
    "print(\"Accuracy=%.3f\" % accuracy)\n",
    "P_S.append(round(accuracy, 3))"
   ]
  },
  {
   "cell_type": "code",
   "execution_count": null,
   "id": "457dea62",
   "metadata": {},
   "outputs": [],
   "source": [
    "cm = confusion_matrix(test_target, predicted)\n",
    "disp = ConfusionMatrixDisplay(confusion_matrix=cm, display_labels=model.classes_)\n",
    "fig, ax = plt.subplots(figsize=(10,10))\n",
    "disp.plot(ax=ax, cmap=plt.cm.Blues)\n",
    "plt.show()"
   ]
  },
  {
   "cell_type": "code",
   "execution_count": null,
   "id": "62a4b975",
   "metadata": {},
   "outputs": [],
   "source": [
    "acc_scores = cross_val_score(model, data_scaled, target, cv=5, scoring=\"accuracy\")\n",
    "print(acc_scores)"
   ]
  },
  {
   "cell_type": "code",
   "execution_count": null,
   "id": "a14db053",
   "metadata": {},
   "outputs": [],
   "source": [
    "print(\"Final accuracy score: %.2f\" % acc_scores.mean())\n",
    "P_S.append(round(acc_scores.mean(), 3))"
   ]
  },
  {
   "cell_type": "markdown",
   "id": "35dfea90",
   "metadata": {},
   "source": [
    "###### 4. Price, Bedrooms and Bathrooms"
   ]
  },
  {
   "cell_type": "code",
   "execution_count": null,
   "id": "3424388e",
   "metadata": {},
   "outputs": [],
   "source": [
    "data = House_DF[[\"Price\", \"Bedrooms no.\", \"Bathrooms no.\"]]\n",
    "data"
   ]
  },
  {
   "cell_type": "code",
   "execution_count": null,
   "id": "145e9aad",
   "metadata": {},
   "outputs": [],
   "source": [
    "# normalising data values\n",
    "normalizer = StandardScaler()\n",
    "data_scaled = normalizer.fit_transform(data.values)\n",
    "data_scaled"
   ]
  },
  {
   "cell_type": "code",
   "execution_count": null,
   "id": "c16d2b96",
   "metadata": {},
   "outputs": [],
   "source": [
    "# splitting data into training and test data with an 80/20 split\n",
    "# also including list to hold scores of hold back strategy and k-fold cross validation\n",
    "P_BE_BA = []\n",
    "train_data, test_data, train_target, test_target = train_test_split(data_scaled, target, test_size=0.2)"
   ]
  },
  {
   "cell_type": "code",
   "execution_count": null,
   "id": "2deafcb2",
   "metadata": {},
   "outputs": [],
   "source": [
    "model = KNeighborsClassifier(n_neighbors=30)\n",
    "model.fit(train_data, train_target)"
   ]
  },
  {
   "cell_type": "code",
   "execution_count": null,
   "id": "5d6a0dbc",
   "metadata": {},
   "outputs": [],
   "source": [
    "predicted = model.predict(test_data)\n",
    "print(\"Class counts:\\n%s\" % pd.Series(predicted).value_counts())"
   ]
  },
  {
   "cell_type": "code",
   "execution_count": null,
   "id": "1ac2e06a",
   "metadata": {},
   "outputs": [],
   "source": [
    "accuracy = accuracy_score(test_target, predicted)\n",
    "print(\"Accuracy=%.3f\" % accuracy)\n",
    "P_BE_BA.append(round(accuracy, 3))"
   ]
  },
  {
   "cell_type": "code",
   "execution_count": null,
   "id": "3e364cbc",
   "metadata": {},
   "outputs": [],
   "source": [
    "cm = confusion_matrix(test_target, predicted)\n",
    "disp = ConfusionMatrixDisplay(confusion_matrix=cm, display_labels=model.classes_)\n",
    "fig, ax = plt.subplots(figsize=(10,10))\n",
    "disp.plot(ax=ax, cmap=plt.cm.Blues)\n",
    "plt.show()"
   ]
  },
  {
   "cell_type": "code",
   "execution_count": null,
   "id": "195fa8e3",
   "metadata": {},
   "outputs": [],
   "source": [
    "acc_scores = cross_val_score(model, data_scaled, target, cv=5, scoring=\"accuracy\")\n",
    "print(acc_scores)"
   ]
  },
  {
   "cell_type": "code",
   "execution_count": null,
   "id": "355fe8a4",
   "metadata": {},
   "outputs": [],
   "source": [
    "print(\"Final accuracy score: %.2f\" % acc_scores.mean())\n",
    "P_BE_BA.append(round(acc_scores.mean(), 3))"
   ]
  },
  {
   "cell_type": "markdown",
   "id": "f31eef6f",
   "metadata": {},
   "source": [
    "###### 5. Year Built, Price and Story"
   ]
  },
  {
   "cell_type": "code",
   "execution_count": null,
   "id": "f85b6dba",
   "metadata": {},
   "outputs": [],
   "source": [
    "data = House_DF[[\"Year Built\", \"Price\", \"Story no.\"]]\n",
    "data"
   ]
  },
  {
   "cell_type": "code",
   "execution_count": null,
   "id": "32b53064",
   "metadata": {},
   "outputs": [],
   "source": [
    "# normalising data values\n",
    "normalizer = StandardScaler()\n",
    "data_scaled = normalizer.fit_transform(data.values)\n",
    "data_scaled"
   ]
  },
  {
   "cell_type": "code",
   "execution_count": null,
   "id": "7e56f986",
   "metadata": {},
   "outputs": [],
   "source": [
    "# splitting data into training and test data with an 80/20 split\n",
    "# also including list to hold scores of hold back strategy and k-fold cross validation\n",
    "YB_P_S = []\n",
    "train_data, test_data, train_target, test_target = train_test_split(data_scaled, target, test_size=0.2)"
   ]
  },
  {
   "cell_type": "code",
   "execution_count": null,
   "id": "12e90fc1",
   "metadata": {},
   "outputs": [],
   "source": [
    "model = KNeighborsClassifier(n_neighbors=30)\n",
    "model.fit(train_data, train_target)"
   ]
  },
  {
   "cell_type": "code",
   "execution_count": null,
   "id": "54cc81c8",
   "metadata": {},
   "outputs": [],
   "source": [
    "predicted = model.predict(test_data)\n",
    "print(\"Class counts:\\n%s\" % pd.Series(predicted).value_counts())"
   ]
  },
  {
   "cell_type": "code",
   "execution_count": null,
   "id": "584f5842",
   "metadata": {},
   "outputs": [],
   "source": [
    "accuracy = accuracy_score(test_target, predicted)\n",
    "print(\"Accuracy=%.3f\" % accuracy)\n",
    "YB_P_S.append(round(accuracy, 3))"
   ]
  },
  {
   "cell_type": "code",
   "execution_count": null,
   "id": "b9edfdee",
   "metadata": {},
   "outputs": [],
   "source": [
    "cm = confusion_matrix(test_target, predicted)\n",
    "disp = ConfusionMatrixDisplay(confusion_matrix=cm, display_labels=model.classes_)\n",
    "fig, ax = plt.subplots(figsize=(10,10))\n",
    "disp.plot(ax=ax, cmap=plt.cm.Blues)\n",
    "plt.show()"
   ]
  },
  {
   "cell_type": "code",
   "execution_count": null,
   "id": "7400eebc",
   "metadata": {},
   "outputs": [],
   "source": [
    "acc_scores = cross_val_score(model, data_scaled, target, cv=5, scoring=\"accuracy\")\n",
    "print(acc_scores)"
   ]
  },
  {
   "cell_type": "code",
   "execution_count": null,
   "id": "42449062",
   "metadata": {},
   "outputs": [],
   "source": [
    "print(\"Final accuracy score: %.2f\" % acc_scores.mean())\n",
    "YB_P_S.append(round(acc_scores.mean(), 3))"
   ]
  },
  {
   "cell_type": "markdown",
   "id": "78fad1a5",
   "metadata": {},
   "source": [
    "###### 6. Size, Bedrooms, Bathrooms"
   ]
  },
  {
   "cell_type": "code",
   "execution_count": null,
   "id": "60ac9354",
   "metadata": {},
   "outputs": [],
   "source": [
    "data = House_DF[[\"Size (in Sq Ft)\", \"Bedrooms no.\", \"Bathrooms no.\"]]\n",
    "data"
   ]
  },
  {
   "cell_type": "code",
   "execution_count": null,
   "id": "7ade2861",
   "metadata": {},
   "outputs": [],
   "source": [
    "# normalising data values\n",
    "normalizer = StandardScaler()\n",
    "data_scaled = normalizer.fit_transform(data.values)\n",
    "data_scaled"
   ]
  },
  {
   "cell_type": "code",
   "execution_count": null,
   "id": "2ef20a43",
   "metadata": {},
   "outputs": [],
   "source": [
    "# splitting data into training and test data with an 80/20 split\n",
    "# also including list to hold scores of hold back strategy and k-fold cross validation\n",
    "S_BE_BA = []\n",
    "train_data, test_data, train_target, test_target = train_test_split(data_scaled, target, test_size=0.2)"
   ]
  },
  {
   "cell_type": "code",
   "execution_count": null,
   "id": "edb51423",
   "metadata": {},
   "outputs": [],
   "source": [
    "model = KNeighborsClassifier(n_neighbors=30)\n",
    "model.fit(train_data, train_target)"
   ]
  },
  {
   "cell_type": "code",
   "execution_count": null,
   "id": "a7607c1a",
   "metadata": {},
   "outputs": [],
   "source": [
    "predicted = model.predict(test_data)\n",
    "print(\"Class counts:\\n%s\" % pd.Series(predicted).value_counts())"
   ]
  },
  {
   "cell_type": "code",
   "execution_count": null,
   "id": "adfda419",
   "metadata": {},
   "outputs": [],
   "source": [
    "accuracy = accuracy_score(test_target, predicted)\n",
    "print(\"Accuracy=%.3f\" % accuracy)\n",
    "S_BE_BA.append(round(accuracy, 3))"
   ]
  },
  {
   "cell_type": "code",
   "execution_count": null,
   "id": "d53b0025",
   "metadata": {},
   "outputs": [],
   "source": [
    "cm = confusion_matrix(test_target, predicted)\n",
    "disp = ConfusionMatrixDisplay(confusion_matrix=cm, display_labels=model.classes_)\n",
    "fig, ax = plt.subplots(figsize=(10,10))\n",
    "disp.plot(ax=ax, cmap=plt.cm.Blues)\n",
    "plt.show()"
   ]
  },
  {
   "cell_type": "code",
   "execution_count": null,
   "id": "6c92e961",
   "metadata": {},
   "outputs": [],
   "source": [
    "acc_scores = cross_val_score(model, data_scaled, target, cv=5, scoring=\"accuracy\")\n",
    "print(acc_scores)"
   ]
  },
  {
   "cell_type": "code",
   "execution_count": null,
   "id": "22b0da98",
   "metadata": {},
   "outputs": [],
   "source": [
    "print(\"Final accuracy score: %.2f\" % acc_scores.mean())\n",
    "S_BE_BA.append(round(acc_scores.mean(), 3))"
   ]
  },
  {
   "cell_type": "markdown",
   "id": "03e75821",
   "metadata": {},
   "source": [
    "###### 7. Year Built, Price, Story and Size"
   ]
  },
  {
   "cell_type": "code",
   "execution_count": null,
   "id": "c386a966",
   "metadata": {},
   "outputs": [],
   "source": [
    "data = House_DF[[\"Year Built\", \"Price\", \"Story no.\", \"Size (in Sq Ft)\"]]\n",
    "data"
   ]
  },
  {
   "cell_type": "code",
   "execution_count": null,
   "id": "2c6ab171",
   "metadata": {},
   "outputs": [],
   "source": [
    "# normalising data values\n",
    "normalizer = StandardScaler()\n",
    "data_scaled = normalizer.fit_transform(data.values)\n",
    "data_scaled"
   ]
  },
  {
   "cell_type": "code",
   "execution_count": null,
   "id": "796f4c3e",
   "metadata": {},
   "outputs": [],
   "source": [
    "# splitting data into training and test data with an 80/20 split\n",
    "# also including list to hold scores of hold back strategy and k-fold cross validation\n",
    "Y_P_S_S = []\n",
    "train_data, test_data, train_target, test_target = train_test_split(data_scaled, target, test_size=0.2)"
   ]
  },
  {
   "cell_type": "code",
   "execution_count": null,
   "id": "f6389d38",
   "metadata": {},
   "outputs": [],
   "source": [
    "model = KNeighborsClassifier(n_neighbors=30)\n",
    "model.fit(train_data, train_target)"
   ]
  },
  {
   "cell_type": "code",
   "execution_count": null,
   "id": "4ba47edc",
   "metadata": {},
   "outputs": [],
   "source": [
    "predicted = model.predict(test_data)\n",
    "print(\"Class counts:\\n%s\" % pd.Series(predicted).value_counts())"
   ]
  },
  {
   "cell_type": "code",
   "execution_count": null,
   "id": "9124c863",
   "metadata": {},
   "outputs": [],
   "source": [
    "accuracy = accuracy_score(test_target, predicted)\n",
    "print(\"Accuracy=%.3f\" % accuracy)\n",
    "Y_P_S_S.append(round(accuracy, 3))"
   ]
  },
  {
   "cell_type": "code",
   "execution_count": null,
   "id": "881c964a",
   "metadata": {},
   "outputs": [],
   "source": [
    "cm = confusion_matrix(test_target, predicted)\n",
    "disp = ConfusionMatrixDisplay(confusion_matrix=cm, display_labels=model.classes_)\n",
    "fig, ax = plt.subplots(figsize=(10,10))\n",
    "disp.plot(ax=ax, cmap=plt.cm.Blues)\n",
    "plt.show()"
   ]
  },
  {
   "cell_type": "code",
   "execution_count": null,
   "id": "a74b3a05",
   "metadata": {},
   "outputs": [],
   "source": [
    "acc_scores = cross_val_score(model, data_scaled, target, cv=5, scoring=\"accuracy\")\n",
    "print(acc_scores)"
   ]
  },
  {
   "cell_type": "code",
   "execution_count": null,
   "id": "c851ee61",
   "metadata": {},
   "outputs": [],
   "source": [
    "print(\"Final accuracy score: %.2f\" % acc_scores.mean())\n",
    "Y_P_S_S.append(round(acc_scores.mean(), 3))"
   ]
  },
  {
   "cell_type": "markdown",
   "id": "fec330ce",
   "metadata": {},
   "source": [
    "##### Final Results"
   ]
  },
  {
   "cell_type": "markdown",
   "id": "48ac9b95",
   "metadata": {},
   "source": [
    "I will now print out the score for every descriptive feature combination received for  hold back strategy and k-fold cross validation."
   ]
  },
  {
   "cell_type": "code",
   "execution_count": null,
   "id": "5f9e9419",
   "metadata": {},
   "outputs": [],
   "source": [
    "print(\"Year Built and Price - hold back score: %.3f    k-fold score: %.3f\" % (YB_P[0], YB_P[1]))\n",
    "print(\"Year Built and Story - hold back score: %.3f    k-fold score: %.3f\" % (YB_S[0], YB_S[1]))\n",
    "print(\"Price and Story - hold back score: %.3f    k-fold score: %.3f\" % (P_S[0], P_S[1]))\n",
    "print(\"Price, Bedrooms and Bathrooms - hold back score: %.3f    k-fold score: %.3f\" % (P_BE_BA[0], P_BE_BA[1]))\n",
    "print(\"Year Built, Price and Story - hold back score: %.3f    k-fold score: %.3f\" % (YB_P_S[0], YB_P_S[1]))\n",
    "print(\"Size, Bedrooms, Bathrooms - hold back score: %.3f    k-fold score: %.3f\" % (S_BE_BA[0], S_BE_BA[1]))\n",
    "print(\"Year Built, Price, Story and Size - hold back score: %.3f    k-fold score: %.3f\" % (Y_P_S_S[0], Y_P_S_S[1]))"
   ]
  },
  {
   "cell_type": "markdown",
   "id": "4e141114",
   "metadata": {},
   "source": [
    "Different Results will occur on different runs of the algorithm but for my run I received the following scores:\n",
    "- Year Built and Price: [0.603, 0.603]\n",
    "- Year Built and Story: [0.577, 0.563]\n",
    "- Price and Story: [0.503, 0.461]\n",
    "- Price, Bedrooms and Bathrooms: [0.466, 0.497]\n",
    "- Year Built, Price and Story: [0.635, 0.589]\n",
    "- Size, Bedrooms, Bathrooms: [0.492, 0.426]\n",
    "- Year Built, Price, Story and Size: [0.508, 0.605]"
   ]
  },
  {
   "cell_type": "markdown",
   "id": "e92f9cee",
   "metadata": {},
   "source": [
    "I will now calculate the combined score for both attributes"
   ]
  },
  {
   "cell_type": "code",
   "execution_count": null,
   "id": "601cc0c7",
   "metadata": {},
   "outputs": [],
   "source": [
    "print(\"Year Built and Price: %.2f\" % sum(YB_P))\n",
    "print(\"Year Built and Story: %.2f\" % sum(YB_S))\n",
    "print(\"Price and Story: %.2f\" % sum(P_S))\n",
    "print(\"Price, Bedrooms and Bathrooms: %.2f\" % sum(P_BE_BA))\n",
    "print(\"Year Built, Price and Story: %.2f\" % sum(YB_P_S))\n",
    "print(\"Size, Bedrooms, Bathrooms: %.2f\" % sum(S_BE_BA))\n",
    "print(\"Year Built, Price, Story and Size: %.2f\" % sum(Y_P_S_S))"
   ]
  },
  {
   "cell_type": "markdown",
   "id": "f0317bad",
   "metadata": {},
   "source": [
    "Different Results will occur on different runs of the algorithm but for my run I received the following scores: - re run and add scores\n",
    "- Year Built and Price: 1.21\n",
    "- Year Built and Story: 1.14\n",
    "- Price and Story: 0.96\n",
    "- Price, Bedrooms and Bathrooms: 0.96\n",
    "- Year Built, Price and Story: 1.22\n",
    "- Size, Bedrooms, Bathrooms: 0.92\n",
    "- Year Built, Price, Story and Size: 1.11"
   ]
  },
  {
   "cell_type": "markdown",
   "id": "9b384a6a",
   "metadata": {},
   "source": [
    "###### This gives an overall ranking of best combination of features for classification in the following order:\n",
    "1. Year Built, Price and Story\n",
    "2. Year Built and Price\n",
    "3. Year Built and Story\n",
    "4. Year Built, Price, Story and Size\n",
    "5. Price, Bedrooms and Bathrooms\n",
    "6. Price and Story\n",
    "7. Size, Bedrooms, Bathrooms\n",
    "\n",
    "**Note:** Position 5 and 6 was a tie so I placed them alphabetically"
   ]
  }
 ],
 "metadata": {
  "kernelspec": {
   "display_name": "Python 3 (ipykernel)",
   "language": "python",
   "name": "python3"
  },
  "language_info": {
   "codemirror_mode": {
    "name": "ipython",
    "version": 3
   },
   "file_extension": ".py",
   "mimetype": "text/x-python",
   "name": "python",
   "nbconvert_exporter": "python",
   "pygments_lexer": "ipython3",
   "version": "3.9.12"
  }
 },
 "nbformat": 4,
 "nbformat_minor": 5
}
